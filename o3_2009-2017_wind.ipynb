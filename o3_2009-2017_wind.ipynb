{
 "cells": [
  {
   "cell_type": "markdown",
   "metadata": {},
   "source": [
    "# New  for O$_3$ analysis over Japan. Wind\n",
    "## import"
   ]
  },
  {
   "cell_type": "code",
   "execution_count": 1,
   "metadata": {
    "ExecuteTime": {
     "end_time": "2020-02-06T08:56:13.053142Z",
     "start_time": "2020-02-06T08:56:12.474474Z"
    }
   },
   "outputs": [],
   "source": [
    "import calendar\n",
    "import netCDF4\n",
    "import matplotlib.pyplot as plt\n",
    "import os\n",
    "os.environ[\"PROJ_LIB\"] = \"C:/Users/admin/Anaconda3/Library/share\"\n",
    "from mpl_toolkits.basemap import Basemap\n",
    "import numpy as np\n",
    "from mpl_toolkits.axes_grid1 import make_axes_locatable\n",
    "from scipy import interpolate\n",
    "\n",
    "import warnings\n",
    "warnings.filterwarnings(\"ignore\", category=UserWarning)"
   ]
  },
  {
   "cell_type": "markdown",
   "metadata": {},
   "source": [
    "## Init"
   ]
  },
  {
   "cell_type": "code",
   "execution_count": 2,
   "metadata": {
    "ExecuteTime": {
     "end_time": "2020-02-06T08:56:13.067135Z",
     "start_time": "2020-02-06T08:56:13.054141Z"
    }
   },
   "outputs": [],
   "source": [
    "# ----------- ACTM params\n",
    "# --- Define lons\n",
    "act_grid = 2.8125\n",
    "act_lons = np.arange(0, 360, act_grid)\n",
    "act_nlon = len(act_lons)\n",
    "\n",
    "# --- Define lats\n",
    "act_lats = [87.8638, 85.09653, 82.31291, 79.52560, 76.73690, 73.94752, 71.15775, 68.36776,\n",
    "            65.57761, 62.78735, 59.99702, 57.20663, 54.4162, 51.62573, 48.83524, 46.04473,\n",
    "            43.25420, 40.46365, 37.67309, 34.88252, 32.09195, 29.30136, 26.51077, 23.72017,\n",
    "            20.92957, 18.13897, 15.34836, 12.55776, 9.767145, 6.976533, 4.185921, 1.395307,\n",
    "            -1.395307, -4.185921, -6.976533, -9.767145, -12.55776, -15.34836, -18.13897, -20.92957,\n",
    "            -23.72017, -26.51077, -29.30136, -32.09195, -34.88252, -37.67309, -40.46365, -43.2542,\n",
    "            -46.04473, -48.83524, -51.62573, -54.4162, -57.20663, -59.99702, -62.78735, -65.57761,\n",
    "            -68.36776, -71.15775, -73.94752, -76.7369, -79.5256, -82.31291, -85.09653, -87.8638]\n",
    "act_lats = np.array(act_lats)\n",
    "act_nlat = len(act_lats)\n",
    "\n",
    "# --- domain & data\n",
    "map_lims = ['Japan', 20, 50, 115, 155, 10, 10, 60, 9, 10, 10]\n",
    "wnd_dir = 'D:/OneDrive - chiba-u.jp/CH4_proj/medium/wind/'\n",
    "\n",
    "# --- plot\n",
    "path = '../'\n",
    "plt_dir = path + 'plots/'\n",
    "\n",
    "# --- month\n",
    "months = calendar.month_abbr[:]\n",
    "del months[0]\n",
    "\n",
    "abc = 'abcdefghijklmnopqrstuvwxyz'"
   ]
  },
  {
   "cell_type": "markdown",
   "metadata": {},
   "source": [
    "## Read wind from nc"
   ]
  },
  {
   "cell_type": "code",
   "execution_count": 3,
   "metadata": {
    "ExecuteTime": {
     "end_time": "2020-02-06T08:56:13.085124Z",
     "start_time": "2020-02-06T08:56:13.069133Z"
    },
    "code_folding": [
     0
    ]
   },
   "outputs": [],
   "source": [
    "def read_wind():\n",
    "\n",
    "    def ncdump(nc_file, nc_fid, verb=True):\n",
    "\n",
    "        # --- print atrib\n",
    "        def print_ncattr(key):\n",
    "            try:\n",
    "                print(f'\\t\\t\\tType: {repr(nc_fid.variables[key].dtype)}')\n",
    "                for ncattr in nc_fid.variables[key].ncattrs():\n",
    "                    print(f'\\t\\t\\t{repr(nc_fid.variables[key].getncattr(ncattr))}')\n",
    "            except KeyError:\n",
    "                print(f'\\t\\t\\tWARNING: does not contain variable attributes {key}')\n",
    "\n",
    "\n",
    "        # NetCDF global attributes\n",
    "        nc_attrs = nc_fid.ncattrs()\n",
    "        if verb:\n",
    "            print(f'\\n\\tNetCDF Global Attributes for file: {nc_file}')\n",
    "            for nc_attr in nc_attrs:\n",
    "                print(f'\\t\\t {nc_attr}, {repr(nc_fid.getncattr(nc_attr))}')\n",
    "\n",
    "        # Dimension information.\n",
    "        nc_dims = [dim for dim in nc_fid.dimensions]\n",
    "        if verb:\n",
    "            print(f'\\n\\tNetCDF dimension information for file: {nc_file}')\n",
    "            for dim in nc_dims:\n",
    "                print(f'\\t\\tName: {dim}; Size: {len(nc_fid.dimensions[dim])}')\n",
    "                print_ncattr(dim)\n",
    "\n",
    "        # Variable information.\n",
    "        nc_vars = [var for var in nc_fid.variables]\n",
    "        if verb:\n",
    "            print(f'\\n\\tNetCDF variable information for file: {nc_file}')\n",
    "            for var in nc_vars:\n",
    "                print(\n",
    "                    f'\\t\\tName: {var}; Dimension: {nc_fid.variables[var].dimensions}; Size: {nc_fid.variables[var].size}')\n",
    "                print_ncattr(var)\n",
    "\n",
    "        return nc_attrs, nc_dims, nc_vars\n",
    "\n",
    "\n",
    "    nc_file = wnd_dir + 'uwind.nc'\n",
    "    nc_fid = netCDF4.Dataset(nc_file)\n",
    "    nc_attrs, nc_dims, nc_vars = ncdump(nc_file, nc_fid, verb=0)\n",
    "    U_wnd = nc_fid.variables['U'][:]\n",
    "\n",
    "    nc_file = wnd_dir + 'vwind.nc'\n",
    "    nc_fid = netCDF4.Dataset(nc_file)\n",
    "    V_wnd = nc_fid.variables['V'][:]\n",
    "\n",
    "    mons = nc_fid.variables['time'][:]\n",
    "    lats = nc_fid.variables['y'][:]\n",
    "    lons = nc_fid.variables['x'][:]\n",
    "    levs = nc_fid.variables['level'][:]\n",
    "\n",
    "    nc_file = wnd_dir + 'Ps.nc'\n",
    "    nc_fid = netCDF4.Dataset(nc_file)\n",
    "    P_srf = nc_fid.variables['PS'][:]\n",
    "\n",
    "    return U_wnd, V_wnd, P_srf, levs, lats, lons, mons\n"
   ]
  },
  {
   "cell_type": "markdown",
   "metadata": {},
   "source": [
    "## Plot 4p"
   ]
  },
  {
   "cell_type": "code",
   "execution_count": 11,
   "metadata": {
    "ExecuteTime": {
     "end_time": "2020-02-06T08:58:19.154413Z",
     "start_time": "2020-02-06T08:58:19.125429Z"
    }
   },
   "outputs": [],
   "source": [
    "def fig_wind4p(map_lims):\n",
    "\n",
    "    def one_panel(i_ax, i_var, i_uw, i_vw, i_lims, i_title, scl, i_cmap):\n",
    "        vp = np.linspace(i_lims[0], i_lims[-1], 100, endpoint=True)\n",
    "        i_var[i_var > i_lims[-1]] = i_lims[-1]\n",
    "        my_cmap = plt.get_cmap(i_cmap)\n",
    "        q = mp.quiver(x0, y0, i_uw, i_vw, i_var, angles='uv', scale_units='xy', units='xy', scale=scl, width=0.35, cmap=my_cmap)\n",
    "        title = '   ' + f'{i_title}'\n",
    "        if jax > -1:\n",
    "            Ulb = 5*scl\n",
    "            i_ax.quiverkey(q, X=0.7, Y=1.05, U=Ulb, label=str(Ulb) + 'm/s', labelpos='E')\n",
    "        ax.set_title(title, loc='left', y=1.0, fontsize=f_size)\n",
    "\n",
    "    # === interpolation\n",
    "    def interp2d():\n",
    "\n",
    "        def interp(inp_var, inp_prs, trg_prs):\n",
    "            def sc_interp1d(y_prs, y_var, x_prs, method):\n",
    "                func = interpolate.interp1d(y_prs, y_var, kind=method)\n",
    "                x_val = func(x_prs)\n",
    "                return x_val\n",
    "\n",
    "            inp_var[np.isnan(inp_var)] = -999\n",
    "            inp_prs[np.isnan(inp_prs)] = -999\n",
    "            idz = np.abs(inp_prs - trg_prs).argmin()\n",
    "            if any(y > trg_prs for y in inp_prs):\n",
    "                out_var = sc_interp1d(inp_prs, inp_var, trg_prs, 'linear')\n",
    "            else:\n",
    "                out_var = inp_var[idz]\n",
    "                if np.abs(trg_prs - inp_var[idz]) > trg_prs*0.1:\n",
    "                    out_var = np.nan\n",
    "            return out_var\n",
    "        U_n = np.zeros_like(P_srf)\n",
    "        V_n = np.zeros_like(P_srf)\n",
    "        P_m = np.zeros_like(U_wind[0, :, :, :])\n",
    "\n",
    "        # --- for each month\n",
    "        U_m = U_wind[jm, :, :, :]\n",
    "        V_m = V_wind[jm, :, :, :]\n",
    "        Ps_m = P_srf[jm, :, :]\n",
    "\n",
    "        # --- press\n",
    "        for jl in range(0, len(levs)):\n",
    "            P_m[jl, :, :] = Ps_m[:, :]*levs[jl]\n",
    "\n",
    "        for ix in range(idx0, idx1):\n",
    "            for iy in range(30, 50):\n",
    "                U_n[jm, iy, ix] = interp(U_m[:, iy, ix], P_m[:, iy, ix], lev)\n",
    "                V_n[jm, iy, ix] = interp(V_m[:, iy, ix], P_m[:, iy, ix], lev)\n",
    "\n",
    "        return U_n[jm, :, :], V_n[jm, :, :]\n",
    "\n",
    "    # --- domain\n",
    "    idy0 = (np.abs(act_lats - map_lims[2])).argmin() - 1\n",
    "    idy1 = (np.abs(act_lats - map_lims[1])).argmin() + 1\n",
    "    idx0 = (np.abs(act_lons - map_lims[3])).argmin() - 1\n",
    "    idx1 = (np.abs(act_lons - map_lims[4])).argmin() + 1\n",
    "\n",
    "    # --- read nc flux\n",
    "    U_wind, V_wind, P_srf, levs, lats, lons, mons = read_wind()\n",
    "\n",
    "    # --- plot\n",
    "    map_lims = map_lims[1:]\n",
    "    plt.rc('font', family='serif')\n",
    "    fig, axes = plt.subplots(figsize=(10, 10), nrows=2, ncols=2, sharex='all', sharey='all')\n",
    "    fig.subplots_adjust(hspace=-0.2, wspace=0.1)\n",
    "\n",
    "    f_size = 14\n",
    "    scale = 1.0\n",
    "    var_lims = [0, 5, 10, 15, 20, 25, 30, 35, 40]\n",
    "\n",
    "    # --- grid\n",
    "    mp = Basemap(projection='cyl', llcrnrlat=map_lims[0], urcrnrlat=map_lims[1],\n",
    "                 llcrnrlon=map_lims[2], urcrnrlon=map_lims[3], resolution='l')\n",
    "    x, y = np.meshgrid(lons, lats)\n",
    "    x0, y0 = mp(lons, lats)\n",
    "\n",
    "    for jax in range(0, len(axes.flat) - 0):\n",
    "        jx = jax//2\n",
    "        jy = jax%2\n",
    "        jm = jax*3\n",
    "        lev = 900\n",
    "#         print(jax, jx, jy, jm, lev)\n",
    "\n",
    "        # --- map\n",
    "        ax = axes.flat[jax]\n",
    "        mp.ax = ax\n",
    "        mp.drawcoastlines(color='k')\n",
    "        mp.drawcountries(color='k')\n",
    "\n",
    "        UW, VW = interp2d()\n",
    "        speed = np.sqrt(UW*UW + VW*VW)\n",
    "\n",
    "        subt = ') ' + months[jm][:3] + ', ' + str(lev) + 'hPa'\n",
    "        one_panel(ax, speed, UW, VW, var_lims, abc[jax] + subt, scale, 'jet')\n",
    "\n",
    "        labp = [False, False, False, False]\n",
    "        labm = [False, False, False, False]\n",
    "        if jy == 0:\n",
    "            labp = [True, False, True, False]\n",
    "        if jx == 1:\n",
    "            labm = [False, True, False, True]\n",
    "\n",
    "        mp.drawparallels(np.arange(-90, 91, map_lims[4]), labels=labp, fontsize=f_size, color='grey')\n",
    "        mp.drawmeridians(np.arange(0, 360, map_lims[5]), labels=labm, fontsize=f_size, color='grey');\n",
    "\n",
    "    plot_name = plt_dir + '/' + 'wind_4m'\n",
    "    import a_saveplot\n",
    "    a_saveplot.save_plot(plot_name, ext=\"png\", close=True, verbose=0)"
   ]
  },
  {
   "cell_type": "code",
   "execution_count": 12,
   "metadata": {
    "ExecuteTime": {
     "end_time": "2020-02-06T08:58:30.905692Z",
     "start_time": "2020-02-06T08:58:21.329166Z"
    }
   },
   "outputs": [
    {
     "name": "stderr",
     "output_type": "stream",
     "text": [
      "C:\\Users\\admin\\Anaconda3\\lib\\site-packages\\ipykernel_launcher.py:5: RuntimeWarning: invalid value encountered in greater\n",
      "  \"\"\"\n"
     ]
    }
   ],
   "source": [
    "fig_wind4p(map_lims)"
   ]
  },
  {
   "cell_type": "markdown",
   "metadata": {},
   "source": [
    "## Plot 12p"
   ]
  },
  {
   "cell_type": "code",
   "execution_count": 6,
   "metadata": {
    "ExecuteTime": {
     "end_time": "2020-02-06T08:56:16.896940Z",
     "start_time": "2020-02-06T08:56:16.865958Z"
    },
    "code_folding": [
     19
    ],
    "deletable": false,
    "editable": false
   },
   "outputs": [],
   "source": [
    "def fig_wind12p(map_lims):\n",
    "\n",
    "    def one_panel(i_ax, i_var, i_uw, i_vw, i_lims, i_title, scl, i_cmap):\n",
    "        vp = np.linspace(i_lims[0], i_lims[-1], 100, endpoint=True)\n",
    "        i_var[i_var > i_lims[-1]] = i_lims[-1]\n",
    "\n",
    "        my_cmap = plt.get_cmap(i_cmap)\n",
    "\n",
    "        q = mp.quiver(x0, y0, i_uw, i_vw, i_var, angles='uv', scale_units='xy', units='xy', scale=scl, width=0.35, cmap=my_cmap)\n",
    "\n",
    "        title = '   ' + f'{i_title}'\n",
    "        if jax > -1:\n",
    "            Ulb = 5*scl\n",
    "            i_ax.quiverkey(q, X=0.7, Y=1.05, U=Ulb, label=str(Ulb) + 'm/s', labelpos='E')\n",
    "        ax.set_title(title, loc='left', y=1.0, fontsize=f_size - 1)\n",
    "\n",
    "    # === interpolation\n",
    "    def interp2d():\n",
    "\n",
    "        def interp(inp_var, inp_prs, trg_prs):\n",
    "\n",
    "            def sc_interp1d(y_prs, y_var, x_prs, method):\n",
    "                func = interpolate.interp1d(y_prs, y_var, kind=method)\n",
    "                x_val = func(x_prs)\n",
    "                return x_val\n",
    "\n",
    "\n",
    "            inp_var[np.isnan(inp_var)] = -999\n",
    "            inp_prs[np.isnan(inp_prs)] = -999\n",
    "\n",
    "            idz = np.abs(inp_prs - trg_prs).argmin()\n",
    "            if any(y > trg_prs for y in inp_prs):\n",
    "                out_var = sc_interp1d(inp_prs, inp_var, trg_prs, 'linear')\n",
    "            else:\n",
    "                out_var = inp_var[idz]\n",
    "                if np.abs(trg_prs - inp_var[idz]) > trg_prs*0.1:\n",
    "                    out_var = np.nan\n",
    "            return out_var\n",
    "\n",
    "\n",
    "        U_n = np.zeros_like(P_srf)\n",
    "        V_n = np.zeros_like(P_srf)\n",
    "        P_m = np.zeros_like(U_wind[0, :, :, :])\n",
    "\n",
    "        # --- for each month\n",
    "        U_m = U_wind[jm, :, :, :]\n",
    "        V_m = V_wind[jm, :, :, :]\n",
    "        Ps_m = P_srf[jm, :, :]\n",
    "\n",
    "        # --- press\n",
    "        for jl in range(0, len(levs)):\n",
    "            P_m[jl, :, :] = Ps_m[:, :]*levs[jl]\n",
    "\n",
    "        for ix in range(idx0, idx1):\n",
    "            for iy in range(30, 50):\n",
    "                U_n[jm, iy, ix] = interp(U_m[:, iy, ix], P_m[:, iy, ix], lev)\n",
    "                V_n[jm, iy, ix] = interp(V_m[:, iy, ix], P_m[:, iy, ix], lev)\n",
    "\n",
    "        return U_n[jm, :, :], V_n[jm, :, :]\n",
    "\n",
    "    # --- domain\n",
    "    idy0 = (np.abs(act_lats - map_lims[2])).argmin() - 1\n",
    "    idy1 = (np.abs(act_lats - map_lims[1])).argmin() + 1\n",
    "    idx0 = (np.abs(act_lons - map_lims[3])).argmin() - 1\n",
    "    idx1 = (np.abs(act_lons - map_lims[4])).argmin() + 1\n",
    "\n",
    "    # --- read nc flux\n",
    "    U_wind, V_wind, P_srf, levs, lats, lons, mons = read_wind()\n",
    "\n",
    "    # --- plot\n",
    "    map_lims = map_lims[1:]\n",
    "    plt.rc('font', family='serif')\n",
    "    fig, axes = plt.subplots(figsize=(16, 19), nrows=4, ncols=3, sharex='all', sharey='all')\n",
    "    fig.subplots_adjust(hspace=-0.2, wspace=0.1)\n",
    "\n",
    "    f_size = 13\n",
    "    scale = 1.0\n",
    "    var_lims = [0, 5, 10, 15, 20, 25, 30, 35, 40]\n",
    "\n",
    "    # --- grid\n",
    "    mp = Basemap(projection='cyl', llcrnrlat=map_lims[0], urcrnrlat=map_lims[1],\n",
    "                 llcrnrlon=map_lims[2], urcrnrlon=map_lims[3], resolution='l')\n",
    "    x, y = np.meshgrid(lons, lats)\n",
    "    x0, y0 = mp(lons, lats)\n",
    "\n",
    "    for jax in range(0, len(axes.flat) - 0):\n",
    "        jx = jax//3\n",
    "        jy = jax%3\n",
    "        jm = jax\n",
    "        lev = 900\n",
    "#         print(jax, jx, jy, jm, lev)\n",
    "\n",
    "        # --- map\n",
    "        ax = axes.flat[jax]\n",
    "        mp.ax = ax\n",
    "        mp.drawcoastlines(color='k')\n",
    "        mp.drawcountries(color='k')\n",
    "\n",
    "        UW, VW = interp2d()\n",
    "        speed = np.sqrt(UW*UW + VW*VW)\n",
    "\n",
    "        subt = str(jy + 1) + ') ' + months[jm][:3] + ', ' + str(lev) + 'hPa'\n",
    "        one_panel(ax, speed, UW, VW, var_lims, abc[jx] + subt, scale, 'jet')\n",
    "\n",
    "        labp = [False, False, False, False]\n",
    "        labm = [False, False, False, False]\n",
    "        if jy == 0:\n",
    "            labp = [True, False, True, False]\n",
    "        if jx == 3:\n",
    "            labm = [False, True, False, True]\n",
    "\n",
    "        mp.drawparallels(np.arange(-90, 91, map_lims[4]), labels=labp, fontsize=f_size, color='grey')\n",
    "        mp.drawmeridians(np.arange(0, 360, map_lims[5]), labels=labm, fontsize=f_size, color='grey');\n",
    "\n",
    "    plot_name = plt_dir + '/' + 'wind_12m'\n",
    "    import a_saveplot\n",
    "    a_saveplot.save_plot(plot_name, ext=\"png\", close=True, verbose=0)"
   ]
  },
  {
   "cell_type": "code",
   "execution_count": 5,
   "metadata": {
    "ExecuteTime": {
     "end_time": "2019-12-19T07:50:31.259347Z",
     "start_time": "2019-12-19T07:49:53.516041Z"
    },
    "deletable": false,
    "editable": false,
    "run_control": {
     "frozen": true
    }
   },
   "outputs": [
    {
     "name": "stderr",
     "output_type": "stream",
     "text": [
      "C:\\Users\\admin\\Anaconda3\\lib\\site-packages\\ipykernel_launcher.py:5: RuntimeWarning: invalid value encountered in greater\n",
      "  \"\"\"\n"
     ]
    }
   ],
   "source": [
    "fig_wind12p(map_lims)"
   ]
  },
  {
   "cell_type": "code",
   "execution_count": null,
   "metadata": {},
   "outputs": [],
   "source": []
  }
 ],
 "metadata": {
  "hide_input": false,
  "kernelspec": {
   "display_name": "Python 3",
   "language": "python",
   "name": "python3"
  },
  "language_info": {
   "codemirror_mode": {
    "name": "ipython",
    "version": 3
   },
   "file_extension": ".py",
   "mimetype": "text/x-python",
   "name": "python",
   "nbconvert_exporter": "python",
   "pygments_lexer": "ipython3",
   "version": "3.8.3"
  },
  "toc": {
   "base_numbering": 1,
   "nav_menu": {},
   "number_sections": true,
   "sideBar": true,
   "skip_h1_title": false,
   "title_cell": "Table of Contents",
   "title_sidebar": "Contents",
   "toc_cell": false,
   "toc_position": {},
   "toc_section_display": true,
   "toc_window_display": false
  },
  "varInspector": {
   "cols": {
    "lenName": 16,
    "lenType": 16,
    "lenVar": 40
   },
   "kernels_config": {
    "python": {
     "delete_cmd_postfix": "",
     "delete_cmd_prefix": "del ",
     "library": "var_list.py",
     "varRefreshCmd": "print(var_dic_list())"
    },
    "r": {
     "delete_cmd_postfix": ") ",
     "delete_cmd_prefix": "rm(",
     "library": "var_list.r",
     "varRefreshCmd": "cat(var_dic_list()) "
    }
   },
   "types_to_exclude": [
    "module",
    "function",
    "builtin_function_or_method",
    "instance",
    "_Feature"
   ],
   "window_display": false
  }
 },
 "nbformat": 4,
 "nbformat_minor": 4
}
