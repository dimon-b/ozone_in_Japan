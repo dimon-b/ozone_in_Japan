{
 "cells": [
  {
   "cell_type": "code",
   "execution_count": 1,
   "metadata": {},
   "outputs": [],
   "source": [
    "# --- import libraries\n",
    "import os\n",
    "import h5py\n",
    "import matplotlib as mpl\n",
    "import matplotlib.pyplot as plt\n",
    "os.environ[\"PROJ_LIB\"] = \"C:/Users/admin/Anaconda3/Library/share\"\n",
    "from mpl_toolkits.basemap import Basemap\n",
    "import numpy as np\n",
    "import pandas as pd\n",
    "import datetime"
   ]
  },
  {
   "cell_type": "code",
   "execution_count": 2,
   "metadata": {},
   "outputs": [],
   "source": [
    "# --- path\n",
    "path = '../'\n",
    "inp_dir = path + 'inp_data/'\n",
    "out_dir = path + 'out_data/'\n",
    "mid_dir = path + 'mid_dir/'\n",
    "plt_dir = path + 'plots/'"
   ]
  },
  {
   "cell_type": "code",
   "execution_count": 3,
   "metadata": {},
   "outputs": [],
   "source": [
    "map_lims = [26, 46, 126, 146, 4, 4]"
   ]
  },
  {
   "cell_type": "code",
   "execution_count": 4,
   "metadata": {},
   "outputs": [],
   "source": [
    "# === plot map\n",
    "def plot_map(var1d, lats, lons, sites, plot_name, title, yr):\n",
    "\n",
    "    from matplotlib.font_manager import FontProperties\n",
    "\n",
    "    fp = FontProperties(fname=r'C:\\WINDOWS\\Fonts\\msgothic.ttc', size=5)\n",
    "\n",
    "    # --- Build Map ---\n",
    "    fig = plt.figure()\n",
    "    plt.rc('font', family='serif')\n",
    "    my_cmap = plt.get_cmap('rainbow')\n",
    "    font_size = 10\n",
    "\n",
    "    # --- map labels ---\n",
    "    mp = Basemap(projection='gall', llcrnrlat=map_lims[0], urcrnrlat=map_lims[1],\n",
    "                 llcrnrlon=map_lims[2], urcrnrlon=map_lims[3], resolution='l')\n",
    "    mp.drawcoastlines(color='grey')\n",
    "    mp.drawcountries(color='grey')\n",
    "    mp.drawparallels(np.arange(-90, 91, map_lims[4]), labels=[True, False, True, False],\n",
    "                     fontsize=font_size, color='grey')\n",
    "    mp.drawmeridians(np.arange(2, 362, map_lims[5]), labels=[False, True, False, True],\n",
    "                     fontsize=font_size, color='grey')\n",
    "\n",
    "    x, y = mp(lons, lats)\n",
    "    mp.scatter(x, y, c=var1d, s=10, cmap=my_cmap)\n",
    "\n",
    "    # --- selected sites\n",
    "    o_site = ''\n",
    "    for j in range(0, len(sites), 1):\n",
    "        n_lat = lats[j]\n",
    "        n_lon = lons[j]\n",
    "        n_site = sites[j]\n",
    "\n",
    "        # --- plot only unploted sites\n",
    "        # if n_site != o_site:\n",
    "        if n_site[:1] != o_site[:1]:\n",
    "            x, y = mp(n_lon, n_lat)\n",
    "            plt.text(x, y, n_site, color='k', weight='bold', fontsize=font_size - 6, fontproperties=fp)\n",
    "        o_site = sites[j]\n",
    "\n",
    "\n",
    "    # --- title\n",
    "    plt.title(title + ' for ' + yr)\n",
    "\n",
    "    # --- legend\n",
    "    # plt.legend(loc=\"lower left\", ncol=4, prop={'size': font_size - 4}, fancybox=True, shadow=True)\n",
    "    plt.colorbar()\n",
    "\n",
    "    # --- save to plot\n",
    "    save_plot(plot_name, ext=\"png\", close=True, verbose=False)\n",
    "    plt.show()"
   ]
  },
  {
   "cell_type": "code",
   "execution_count": 5,
   "metadata": {},
   "outputs": [],
   "source": [
    "def save_plot(path, ext='png', close=True, verbose=True):\n",
    "\n",
    "    \"\"\"Save a figure from pyplot.\n",
    "    Parameters\n",
    "    ----------\n",
    "    path : string\n",
    "        The path (and filename, without the extension) to save the\n",
    "        figure to.\n",
    "    ext : string (default='png')\n",
    "        The file extension. This must be supported by the active\n",
    "        matplotlib backend (see matplotlib.backends module).  Most\n",
    "        backends support 'png', 'pdf', 'ps', 'eps', and 'svg'.\n",
    "    close : boolean (default=True)\n",
    "        Whether to close the figure after saving.  If you want to save\n",
    "        the figure multiple times (e.g., to multiple formats), you\n",
    "        should NOT close it in between saves or you will have to\n",
    "        re-plot it.\n",
    "    verbose : boolean (default=True)\n",
    "        Whether to print information about when and where the image\n",
    "        has been saved.\n",
    "    \"\"\"\n",
    "    # --- Extract the directory and filename from the given path\n",
    "    directory = os.path.split(path)[0]\n",
    "    filename = \"%s.%s\"%(os.path.split(path)[1], ext)\n",
    "    if directory == '':\n",
    "        directory = '.'\n",
    "\n",
    "    # --- If the directory does not exist, create it\n",
    "    if not os.path.exists(directory):\n",
    "        os.makedirs(directory)\n",
    "\n",
    "    # --- The final path to save to\n",
    "    savepath = os.path.join(directory, filename)\n",
    "\n",
    "    if verbose:\n",
    "        print('\\t\\tSaving figure to: ', savepath)\n",
    "\n",
    "    # --- Actually save the figure\n",
    "    plt.savefig(savepath, dpi=600, bbox_inches='tight')\n",
    "\n",
    "    # --- Close it\n",
    "    if close:\n",
    "        plt.close()\n",
    "\n",
    "    if verbose:\n",
    "        print('\\t\\tplot_save - OK')"
   ]
  },
  {
   "cell_type": "code",
   "execution_count": 6,
   "metadata": {},
   "outputs": [],
   "source": [
    "# --- map processing\n",
    "def proc_map(yr):\n",
    "\n",
    "    # --- pd settings\n",
    "    pd.set_option('expand_frame_repr', False)\n",
    "\n",
    "    # --- files to read\n",
    "    file_d = inp_dir + 'TD' + yr + '0600.txt'\n",
    "    file_m = inp_dir + 'TM' + yr + '0000.txt'\n",
    "    print('File to read:', file_m, file_d)\n",
    "\n",
    "    # --- read\n",
    "    df_d = pd.read_csv(file_d, encoding='cp932')\n",
    "    df_m = pd.read_csv(file_m, encoding='cp932')\n",
    "    #df_m = pd.read_csv(file_m, encoding='utf-8')\n",
    "\n",
    "    # --- subset\n",
    "    df_d1 = df_d[['測定局コード', '昼間の１時間値の最高値(ppm)', '昼間の日最高１時間値の年平均値(ppm)']]\n",
    "    df_d1.set_index('測定局コード', inplace=True)\n",
    "\n",
    "    df_m1 = df_m[['国環研局番', '同左_ローマ字', '都道府県名', '市区町村名', '緯度_度', '緯度_分', '緯度_秒', '経度_度', '経度_分', '経度_秒']]\n",
    "    df_m1.rename({'国環研局番': '測定局コード'}, axis='columns', inplace=True)\n",
    "    df_m1.set_index('測定局コード', inplace=True)\n",
    "\n",
    "    # --- joint df\n",
    "    df_a = pd.concat([df_m1, df_d1], axis=1)\n",
    "    #df_a.dropna(inplace=True)\n",
    "\n",
    "    # --- check data\n",
    "    print('Working datasets' + ' for ' + yr)\n",
    "    print(df_d1.head())\n",
    "    print(df_m1.head())\n",
    "    print(df_a.head())\n",
    "\n",
    "    # --- lat/lons\n",
    "    # var1d = df_a['OX_測定高度(m)'].values\n",
    "    # lats = df_a['緯度_度'].values + df_a['緯度_分'].values / 60 + df_a['緯度_秒'].values / 3600\n",
    "    # lons = df_a['経度_度'].values + df_a['経度_分'].values / 60 + df_a['経度_秒'].values / 3600\n",
    "    # sites = df_a['同左_ローマ字'].values\n",
    "    # sites = df_a['市区町村名'].values\n",
    "\n",
    "    # --- data to plot\n",
    "    n_var = ['昼間の１時間値の最高値(ppm)', '昼間の日最高１時間値の年平均値(ppm)']\n",
    "    n_drp = ['昼間の日最高１時間値の年平均値(ppm)', '昼間の１時間値の最高値(ppm)']\n",
    "    n_ttl = ['Maximum O$_3$, ppm', 'Average O$_3$, ppm']\n",
    "    n_fll = ['Maximum_O3', 'Average_O3']\n",
    "\n",
    "    # --- loop\n",
    "    for l in range(0, len(n_var)):\n",
    "        df_plt = df_a.copy()\n",
    "        df_plt.drop(n_drp[l], axis=1, inplace=True)\n",
    "        df_plt.dropna(inplace=True)\n",
    "\n",
    "        # --- data to plot\n",
    "        var1d = df_plt[n_var[l]].values\n",
    "        lats = df_plt['緯度_度'].values + df_plt['緯度_分'].values / 60 + df_plt['緯度_秒'].values / 3600\n",
    "        lons = df_plt['経度_度'].values + df_plt['経度_分'].values / 60 + df_plt['経度_秒'].values / 3600\n",
    "        # sites = df_plt['同左_ローマ字'].values\n",
    "        # sites = df_plt['市区町村名'].values\n",
    "        sites = df_plt['都道府県名'].values\n",
    "\n",
    "        # --- plot map if var1d not empty\n",
    "        if var1d != []:\n",
    "            plot_name = plt_dir + n_fll[l] + '_' + yr\n",
    "            title = n_ttl[l]\n",
    "            plot_map(var1d, lats, lons, sites, plot_name, title, yr)"
   ]
  },
  {
   "cell_type": "code",
   "execution_count": 7,
   "metadata": {},
   "outputs": [],
   "source": [
    "# --- start and end years\n",
    "#years = [1973, 1975]\n",
    "#for yr in range(years[0], years[1]):\n",
    "#    proc_map(str(yr))"
   ]
  },
  {
   "cell_type": "code",
   "execution_count": 8,
   "metadata": {},
   "outputs": [
    {
     "name": "stdout",
     "output_type": "stream",
     "text": [
      "\n",
      "File to read: ../inp_data/2016_40202010.csv\n",
      "\n",
      "\tOriginal df len: 5580\n",
      "\tRemoved: 2016 4 31\n",
      "\tRemoved: 2016 6 31\n",
      "\tRemoved: 2016 9 31\n",
      "\tRemoved: 2016 11 31\n",
      "\tRemoved: 2016 2 30\n",
      "\tRemoved: 2016 2 31\n",
      "\n",
      "\tAfter wrong days removing df len : 366\n",
      "\n",
      "\tOX data final df len: 372\n",
      "                       OX\n",
      "index                    \n",
      "2016-01-01 01:00:00  12.0\n",
      "2016-01-01 02:00:00  15.0\n",
      "2016-01-01 03:00:00  14.0\n",
      "2016-01-01 04:00:00   7.0\n",
      "2016-01-01 05:00:00   8.0\n"
     ]
    }
   ],
   "source": [
    "# --- map processing\n",
    "def proc_sites(yr):\n",
    "    import datetime\n",
    "\n",
    "    # --- pd settings\n",
    "    pd.set_option('expand_frame_repr', False)\n",
    "\n",
    "    # --- files to read\n",
    "    file_s = inp_dir + yr + '_40202010.csv'\n",
    "    print('\\nFile to read:', file_s)\n",
    "\n",
    "    # --- read\n",
    "    df_s = pd.read_csv(file_s, encoding='cp932')\n",
    "    print('\\n\\tOriginal df len:', len(df_s))\n",
    "\n",
    "    # --- cut OX data only\n",
    "    df_o = df_s[df_s['測定項目コード'] == 'OX  ']\n",
    "    #print('\\n\\tOX data only df len:', len(df_o))\n",
    "    #print(df_o.head())\n",
    "    \n",
    "    # --- cut wrong days and add index\n",
    "    df = df_o.copy()\n",
    "    index = []\n",
    "    for i in range(0, len(df_o)):\n",
    "        try:\n",
    "            yr = df_o['測定年度'].values[i]\n",
    "            mn = df_o['測定月'].values[i]\n",
    "            dy = df_o['測定日'].values[i]\n",
    "            index.append(datetime.datetime(yr, mn, dy, 0, 0))\n",
    "        except:\n",
    "            print('\\tRemoved:', yr, mn, dy)\n",
    "            df.drop(df.index[[i]], inplace=True)\n",
    "    \n",
    "\n",
    "    df['index'] = index\n",
    "    print('\\n\\tAfter wrong days removing df len :', len(df))\n",
    "\n",
    "    # --- remove unused columns\n",
    "    df.drop(['測定年度', '測定月', '測定日', '測定局コード', '市町村コード', '測定項目コード', '測定単位コード'], axis=1, inplace=True)\n",
    "    #print('\\n\\tCut wrong days and add index:', len(df_o))\n",
    "    #print(df.head())\n",
    "               \n",
    "    # --- values from rows to columns\n",
    "    df_t = df.melt(id_vars=['index'])\n",
    "    #print('\\n\\tValues from rows to columns:', len(df_o))\n",
    "    #print(df_t.head())\n",
    "    \n",
    "    # --- add hours to index\n",
    "    df_t['hour'] = df_t.apply(lambda row: int(str(row['variable'])[:-1]), axis=1)\n",
    "\n",
    "    # --- conver 24h to 00h of next day\n",
    "    index = []\n",
    "    dts = df_t['index'].tolist()\n",
    "    hrs = df_t['hour'].values\n",
    "    for i in range(0, len(df_t)):\n",
    "    #for i in range(8000, 8100):\n",
    "        try:\n",
    "            dt = dts[i]\n",
    "            hr = hrs[i]\n",
    "            index.append(dt.replace(hour=hr))\n",
    "        except ValueError:\n",
    "            dt = dt.replace(hour=23)\n",
    "            dt += datetime.timedelta(hours=1)\n",
    "            index.append(dt)\n",
    "        #print(dts[i], hrs[i], dt)\n",
    "    \n",
    "      \n",
    "    df_t['index'] = index\n",
    "    df_t.set_index('index', inplace=True)\n",
    "    df_t.sort_index(inplace=True, ascending=1)\n",
    "    #print(df_t.iloc[370:385,:])\n",
    "    \n",
    "    # --- drop unnecessary, rename, remove undef (9999)\n",
    "    df_t.drop(['variable', 'hour'], axis=1, inplace=True)\n",
    "    df_t.rename(columns={'value':'OX'}, inplace=True)\n",
    "    #df_t['OX'] = df_t.apply(lambda row: row['value'] if row['value'] < 999, axis=1)\n",
    "\n",
    "    #df_t['OX'] = df_t.apply(lambda row: row['OX'] , axis=1)\n",
    "    df_t['OX'] = df_t.OX.apply(lambda x: x if x < 9900 else np.nan)\n",
    "    \n",
    "    print('\\n\\tOX data final df len:', len(df_o))\n",
    "    print(df_t.head())\n",
    "    \n",
    "    return df_t\n",
    "    \n",
    "yr = 2016\n",
    "df = proc_sites(str(yr))"
   ]
  },
  {
   "cell_type": "code",
   "execution_count": 9,
   "metadata": {},
   "outputs": [
    {
     "name": "stdout",
     "output_type": "stream",
     "text": [
      "                       OX\n",
      "index                    \n",
      "2016-01-01 01:00:00  12.0\n",
      "2016-01-01 02:00:00  15.0\n",
      "2016-01-01 03:00:00  14.0\n",
      "2016-01-01 04:00:00   7.0\n",
      "2016-01-01 05:00:00   8.0\n",
      "2016-01-01 06:00:00  11.0\n",
      "2016-01-01 07:00:00  10.0\n",
      "2016-01-01 08:00:00   9.0\n",
      "2016-01-01 09:00:00  11.0\n",
      "2016-01-01 10:00:00  15.0\n",
      "2016-01-01 01:00:00\n",
      "2016-01-01 23:00:00\n"
     ]
    }
   ],
   "source": [
    "print(df.head(10))\n",
    "dts = df.index.tolist()\n",
    "dt = dts[0]\n",
    "print(dt)\n",
    "dt = dt.replace(hour=23)\n",
    "print(dt)"
   ]
  },
  {
   "cell_type": "code",
   "execution_count": 10,
   "metadata": {},
   "outputs": [],
   "source": [
    "df.plot()\n",
    "plot_name = plt_dir + 'Ox_h_' + str(yr)\n",
    "save_plot(plot_name, ext=\"png\", close=True, verbose=False)\n",
    "plt.show()"
   ]
  },
  {
   "cell_type": "code",
   "execution_count": 11,
   "metadata": {
    "scrolled": true
   },
   "outputs": [
    {
     "data": {
      "text/html": [
       "<div>\n",
       "<style scoped>\n",
       "    .dataframe tbody tr th:only-of-type {\n",
       "        vertical-align: middle;\n",
       "    }\n",
       "\n",
       "    .dataframe tbody tr th {\n",
       "        vertical-align: top;\n",
       "    }\n",
       "\n",
       "    .dataframe thead th {\n",
       "        text-align: right;\n",
       "    }\n",
       "</style>\n",
       "<table border=\"1\" class=\"dataframe\">\n",
       "  <thead>\n",
       "    <tr style=\"text-align: right;\">\n",
       "      <th></th>\n",
       "      <th>OX</th>\n",
       "    </tr>\n",
       "    <tr>\n",
       "      <th>index</th>\n",
       "      <th></th>\n",
       "    </tr>\n",
       "  </thead>\n",
       "  <tbody>\n",
       "    <tr>\n",
       "      <th>2016-01-31</th>\n",
       "      <td>AxesSubplot(0.125,0.125;0.775x0.755)</td>\n",
       "    </tr>\n",
       "    <tr>\n",
       "      <th>2016-02-29</th>\n",
       "      <td>AxesSubplot(0.125,0.125;0.775x0.755)</td>\n",
       "    </tr>\n",
       "    <tr>\n",
       "      <th>2016-03-31</th>\n",
       "      <td>AxesSubplot(0.125,0.125;0.775x0.755)</td>\n",
       "    </tr>\n",
       "    <tr>\n",
       "      <th>2016-04-30</th>\n",
       "      <td>AxesSubplot(0.125,0.125;0.775x0.755)</td>\n",
       "    </tr>\n",
       "    <tr>\n",
       "      <th>2016-05-31</th>\n",
       "      <td>AxesSubplot(0.125,0.125;0.775x0.755)</td>\n",
       "    </tr>\n",
       "    <tr>\n",
       "      <th>2016-06-30</th>\n",
       "      <td>AxesSubplot(0.125,0.125;0.775x0.755)</td>\n",
       "    </tr>\n",
       "    <tr>\n",
       "      <th>2016-07-31</th>\n",
       "      <td>AxesSubplot(0.125,0.125;0.775x0.755)</td>\n",
       "    </tr>\n",
       "    <tr>\n",
       "      <th>2016-08-31</th>\n",
       "      <td>AxesSubplot(0.125,0.125;0.775x0.755)</td>\n",
       "    </tr>\n",
       "    <tr>\n",
       "      <th>2016-09-30</th>\n",
       "      <td>AxesSubplot(0.125,0.125;0.775x0.755)</td>\n",
       "    </tr>\n",
       "    <tr>\n",
       "      <th>2016-10-31</th>\n",
       "      <td>AxesSubplot(0.125,0.125;0.775x0.755)</td>\n",
       "    </tr>\n",
       "    <tr>\n",
       "      <th>2016-11-30</th>\n",
       "      <td>AxesSubplot(0.125,0.125;0.775x0.755)</td>\n",
       "    </tr>\n",
       "    <tr>\n",
       "      <th>2016-12-31</th>\n",
       "      <td>AxesSubplot(0.125,0.125;0.775x0.755)</td>\n",
       "    </tr>\n",
       "    <tr>\n",
       "      <th>2017-01-31</th>\n",
       "      <td>AxesSubplot(0.125,0.125;0.775x0.755)</td>\n",
       "    </tr>\n",
       "  </tbody>\n",
       "</table>\n",
       "</div>"
      ],
      "text/plain": [
       "                                              OX\n",
       "index                                           \n",
       "2016-01-31  AxesSubplot(0.125,0.125;0.775x0.755)\n",
       "2016-02-29  AxesSubplot(0.125,0.125;0.775x0.755)\n",
       "2016-03-31  AxesSubplot(0.125,0.125;0.775x0.755)\n",
       "2016-04-30  AxesSubplot(0.125,0.125;0.775x0.755)\n",
       "2016-05-31  AxesSubplot(0.125,0.125;0.775x0.755)\n",
       "2016-06-30  AxesSubplot(0.125,0.125;0.775x0.755)\n",
       "2016-07-31  AxesSubplot(0.125,0.125;0.775x0.755)\n",
       "2016-08-31  AxesSubplot(0.125,0.125;0.775x0.755)\n",
       "2016-09-30  AxesSubplot(0.125,0.125;0.775x0.755)\n",
       "2016-10-31  AxesSubplot(0.125,0.125;0.775x0.755)\n",
       "2016-11-30  AxesSubplot(0.125,0.125;0.775x0.755)\n",
       "2016-12-31  AxesSubplot(0.125,0.125;0.775x0.755)\n",
       "2017-01-31  AxesSubplot(0.125,0.125;0.775x0.755)"
      ]
     },
     "execution_count": 11,
     "metadata": {},
     "output_type": "execute_result"
    },
    {
     "data": {
      "image/png": "[encoded data removed]",
      "text/plain": [
       "<Figure size 432x288 with 1 Axes>"
      ]
     },
     "metadata": {
      "needs_background": "light"
     },
     "output_type": "display_data"
    }
   ],
   "source": [
    "df.resample('m').plot()"
   ]
  },
  {
   "cell_type": "code",
   "execution_count": 20,
   "metadata": {},
   "outputs": [
    {
     "data": {
      "text/plain": [
       "<matplotlib.axes._subplots.AxesSubplot at 0x1f837451278>"
      ]
     },
     "execution_count": 20,
     "metadata": {},
     "output_type": "execute_result"
    },
    {
     "data": {
      "image/png": "[encoded data removed]",
      "text/plain": [
       "<Figure size 432x288 with 1 Axes>"
      ]
     },
     "metadata": {
      "needs_background": "light"
     },
     "output_type": "display_data"
    }
   ],
   "source": [
    "df.resample('d').mean().plot()\n",
    "#plot_name = plt_dir + 'Ox_d_' + str(yr)\n",
    "#save_plot(plot_name, ext=\"png\", close=True, verbose=False)\n",
    "#plt.show()"
   ]
  },
  {
   "cell_type": "code",
   "execution_count": 13,
   "metadata": {},
   "outputs": [
    {
     "name": "stdout",
     "output_type": "stream",
     "text": [
      "                       OX\n",
      "index                    \n",
      "2016-01-01 01:00:00  12.0\n",
      "2016-01-01 02:00:00  15.0\n",
      "2016-01-01 03:00:00  14.0\n",
      "2016-01-01 04:00:00   7.0\n",
      "2016-01-01 05:00:00   8.0\n"
     ]
    }
   ],
   "source": [
    "print(df.head())"
   ]
  },
  {
   "cell_type": "code",
   "execution_count": 14,
   "metadata": {},
   "outputs": [
    {
     "data": {
      "text/plain": [
       "<matplotlib.axes._subplots.AxesSubplot at 0x1f8377dff28>"
      ]
     },
     "execution_count": 14,
     "metadata": {},
     "output_type": "execute_result"
    },
    {
     "data": {
      "image/png": "[encoded data removed]",
      "text/plain": [
       "<Figure size 432x288 with 1 Axes>"
      ]
     },
     "metadata": {
      "needs_background": "light"
     },
     "output_type": "display_data"
    }
   ],
   "source": [
    "df.plot()"
   ]
  },
  {
   "cell_type": "code",
   "execution_count": null,
   "metadata": {},
   "outputs": [],
   "source": []
  }
 ],
 "metadata": {
  "kernelspec": {
   "display_name": "Python 3",
   "language": "python",
   "name": "python3"
  },
  "language_info": {
   "codemirror_mode": {
    "name": "ipython",
    "version": 3
   },
   "file_extension": ".py",
   "mimetype": "text/x-python",
   "name": "python",
   "nbconvert_exporter": "python",
   "pygments_lexer": "ipython3",
   "version": "3.7.1"
  }
 },
 "nbformat": 4,
 "nbformat_minor": 2
}
