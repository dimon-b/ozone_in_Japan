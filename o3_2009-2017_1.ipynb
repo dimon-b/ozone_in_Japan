{
 "cells": [
  {
   "cell_type": "markdown",
   "metadata": {
    "hide_input": false
   },
   "source": [
    "# New approach for O$_3$ analysis over Japan. Part 1"
   ]
  },
  {
   "cell_type": "code",
   "execution_count": 1,
   "metadata": {
    "ExecuteTime": {
     "end_time": "2019-12-07T13:33:53.510748Z",
     "start_time": "2019-12-07T13:33:52.980110Z"
    }
   },
   "outputs": [],
   "source": [
    "import urllib.request\n",
    "import zipfile\n",
    "import glob, os\n",
    "import numpy as np\n",
    "import pandas as pd\n",
    "import datetime"
   ]
  },
  {
   "cell_type": "markdown",
   "metadata": {},
   "source": [
    "## Parameters"
   ]
  },
  {
   "cell_type": "code",
   "execution_count": 2,
   "metadata": {
    "ExecuteTime": {
     "end_time": "2019-12-07T13:33:53.515740Z",
     "start_time": "2019-12-07T13:33:53.512730Z"
    }
   },
   "outputs": [],
   "source": [
    "m_url = 'https://www.nies.go.jp/igreen/tj/2016/j01_2016.zip'\n",
    "d_path = '../inp_data/2009-2017/'\n",
    "years = [2009, 2009]\n",
    "pref_max = 47"
   ]
  },
  {
   "cell_type": "markdown",
   "metadata": {},
   "source": [
    "## Donwloading of raw data\n",
    "Downloading the atmospheric environment measurement station data (時間値データ（2009～2017年度）) from https://www.nies.go.jp/igreen/tm_down.html"
   ]
  },
  {
   "cell_type": "code",
   "execution_count": 3,
   "metadata": {
    "ExecuteTime": {
     "end_time": "2019-12-07T13:33:53.539680Z",
     "start_time": "2019-12-07T13:33:53.517726Z"
    }
   },
   "outputs": [
    {
     "name": "stdout",
     "output_type": "stream",
     "text": [
      "Downlading: https://www.nies.go.jp/igreen/tj/2009/j01_2009.zip and placing: ../inp_data/2009-2017/j01_2009.zip\n",
      "File exist\n",
      "Downlading: https://www.nies.go.jp/igreen/tj/2009/j02_2009.zip and placing: ../inp_data/2009-2017/j02_2009.zip\n",
      "File exist\n",
      "Downlading: https://www.nies.go.jp/igreen/tj/2009/j03_2009.zip and placing: ../inp_data/2009-2017/j03_2009.zip\n",
      "File exist\n",
      "Downlading: https://www.nies.go.jp/igreen/tj/2009/j04_2009.zip and placing: ../inp_data/2009-2017/j04_2009.zip\n",
      "File exist\n",
      "Downlading: https://www.nies.go.jp/igreen/tj/2009/j05_2009.zip and placing: ../inp_data/2009-2017/j05_2009.zip\n",
      "File exist\n",
      "Downlading: https://www.nies.go.jp/igreen/tj/2009/j06_2009.zip and placing: ../inp_data/2009-2017/j06_2009.zip\n",
      "File exist\n",
      "Downlading: https://www.nies.go.jp/igreen/tj/2009/j07_2009.zip and placing: ../inp_data/2009-2017/j07_2009.zip\n",
      "File exist\n",
      "Downlading: https://www.nies.go.jp/igreen/tj/2009/j08_2009.zip and placing: ../inp_data/2009-2017/j08_2009.zip\n",
      "File exist\n",
      "Downlading: https://www.nies.go.jp/igreen/tj/2009/j09_2009.zip and placing: ../inp_data/2009-2017/j09_2009.zip\n",
      "File exist\n",
      "Downlading: https://www.nies.go.jp/igreen/tj/2009/j10_2009.zip and placing: ../inp_data/2009-2017/j10_2009.zip\n",
      "File exist\n",
      "Downlading: https://www.nies.go.jp/igreen/tj/2009/j11_2009.zip and placing: ../inp_data/2009-2017/j11_2009.zip\n",
      "File exist\n",
      "Downlading: https://www.nies.go.jp/igreen/tj/2009/j12_2009.zip and placing: ../inp_data/2009-2017/j12_2009.zip\n",
      "File exist\n",
      "Downlading: https://www.nies.go.jp/igreen/tj/2009/j13_2009.zip and placing: ../inp_data/2009-2017/j13_2009.zip\n",
      "File exist\n",
      "Downlading: https://www.nies.go.jp/igreen/tj/2009/j14_2009.zip and placing: ../inp_data/2009-2017/j14_2009.zip\n",
      "File exist\n",
      "Downlading: https://www.nies.go.jp/igreen/tj/2009/j15_2009.zip and placing: ../inp_data/2009-2017/j15_2009.zip\n",
      "File exist\n",
      "Downlading: https://www.nies.go.jp/igreen/tj/2009/j16_2009.zip and placing: ../inp_data/2009-2017/j16_2009.zip\n",
      "File exist\n",
      "Downlading: https://www.nies.go.jp/igreen/tj/2009/j17_2009.zip and placing: ../inp_data/2009-2017/j17_2009.zip\n",
      "File exist\n",
      "Downlading: https://www.nies.go.jp/igreen/tj/2009/j18_2009.zip and placing: ../inp_data/2009-2017/j18_2009.zip\n",
      "File exist\n",
      "Downlading: https://www.nies.go.jp/igreen/tj/2009/j19_2009.zip and placing: ../inp_data/2009-2017/j19_2009.zip\n",
      "File exist\n",
      "Downlading: https://www.nies.go.jp/igreen/tj/2009/j20_2009.zip and placing: ../inp_data/2009-2017/j20_2009.zip\n",
      "File exist\n",
      "Downlading: https://www.nies.go.jp/igreen/tj/2009/j21_2009.zip and placing: ../inp_data/2009-2017/j21_2009.zip\n",
      "File exist\n",
      "Downlading: https://www.nies.go.jp/igreen/tj/2009/j22_2009.zip and placing: ../inp_data/2009-2017/j22_2009.zip\n",
      "File exist\n",
      "Downlading: https://www.nies.go.jp/igreen/tj/2009/j23_2009.zip and placing: ../inp_data/2009-2017/j23_2009.zip\n",
      "File exist\n",
      "Downlading: https://www.nies.go.jp/igreen/tj/2009/j24_2009.zip and placing: ../inp_data/2009-2017/j24_2009.zip\n",
      "File exist\n",
      "Downlading: https://www.nies.go.jp/igreen/tj/2009/j25_2009.zip and placing: ../inp_data/2009-2017/j25_2009.zip\n",
      "File exist\n",
      "Downlading: https://www.nies.go.jp/igreen/tj/2009/j26_2009.zip and placing: ../inp_data/2009-2017/j26_2009.zip\n",
      "File exist\n",
      "Downlading: https://www.nies.go.jp/igreen/tj/2009/j27_2009.zip and placing: ../inp_data/2009-2017/j27_2009.zip\n",
      "File exist\n",
      "Downlading: https://www.nies.go.jp/igreen/tj/2009/j28_2009.zip and placing: ../inp_data/2009-2017/j28_2009.zip\n",
      "File exist\n",
      "Downlading: https://www.nies.go.jp/igreen/tj/2009/j29_2009.zip and placing: ../inp_data/2009-2017/j29_2009.zip\n",
      "File exist\n",
      "Downlading: https://www.nies.go.jp/igreen/tj/2009/j30_2009.zip and placing: ../inp_data/2009-2017/j30_2009.zip\n",
      "File exist\n",
      "Downlading: https://www.nies.go.jp/igreen/tj/2009/j31_2009.zip and placing: ../inp_data/2009-2017/j31_2009.zip\n",
      "File exist\n",
      "Downlading: https://www.nies.go.jp/igreen/tj/2009/j32_2009.zip and placing: ../inp_data/2009-2017/j32_2009.zip\n",
      "File exist\n",
      "Downlading: https://www.nies.go.jp/igreen/tj/2009/j33_2009.zip and placing: ../inp_data/2009-2017/j33_2009.zip\n",
      "File exist\n",
      "Downlading: https://www.nies.go.jp/igreen/tj/2009/j34_2009.zip and placing: ../inp_data/2009-2017/j34_2009.zip\n",
      "File exist\n",
      "Downlading: https://www.nies.go.jp/igreen/tj/2009/j35_2009.zip and placing: ../inp_data/2009-2017/j35_2009.zip\n",
      "File exist\n",
      "Downlading: https://www.nies.go.jp/igreen/tj/2009/j36_2009.zip and placing: ../inp_data/2009-2017/j36_2009.zip\n",
      "File exist\n",
      "Downlading: https://www.nies.go.jp/igreen/tj/2009/j37_2009.zip and placing: ../inp_data/2009-2017/j37_2009.zip\n",
      "File exist\n",
      "Downlading: https://www.nies.go.jp/igreen/tj/2009/j38_2009.zip and placing: ../inp_data/2009-2017/j38_2009.zip\n",
      "File exist\n",
      "Downlading: https://www.nies.go.jp/igreen/tj/2009/j39_2009.zip and placing: ../inp_data/2009-2017/j39_2009.zip\n",
      "File exist\n",
      "Downlading: https://www.nies.go.jp/igreen/tj/2009/j40_2009.zip and placing: ../inp_data/2009-2017/j40_2009.zip\n",
      "File exist\n",
      "Downlading: https://www.nies.go.jp/igreen/tj/2009/j41_2009.zip and placing: ../inp_data/2009-2017/j41_2009.zip\n",
      "File exist\n",
      "Downlading: https://www.nies.go.jp/igreen/tj/2009/j42_2009.zip and placing: ../inp_data/2009-2017/j42_2009.zip\n",
      "File exist\n",
      "Downlading: https://www.nies.go.jp/igreen/tj/2009/j43_2009.zip and placing: ../inp_data/2009-2017/j43_2009.zip\n",
      "File exist\n",
      "Downlading: https://www.nies.go.jp/igreen/tj/2009/j44_2009.zip and placing: ../inp_data/2009-2017/j44_2009.zip\n",
      "File exist\n",
      "Downlading: https://www.nies.go.jp/igreen/tj/2009/j45_2009.zip and placing: ../inp_data/2009-2017/j45_2009.zip\n",
      "File exist\n",
      "Downlading: https://www.nies.go.jp/igreen/tj/2009/j46_2009.zip and placing: ../inp_data/2009-2017/j46_2009.zip\n",
      "File exist\n",
      "Downlading: https://www.nies.go.jp/igreen/tj/2009/j47_2009.zip and placing: ../inp_data/2009-2017/j47_2009.zip\n",
      "File exist\n",
      "Downlading done for: 2009\n"
     ]
    }
   ],
   "source": [
    "for yr in range(years[0], years[1]+1, 1):\n",
    "    s_yr = str(yr)\n",
    "    for pr in range(1, pref_max+1):\n",
    "#     for pr in range(20, 21):\n",
    "        s_pr = str(pr).zfill(2)\n",
    "        f_name = 'j' + s_pr + '_' + s_yr + '.zip'\n",
    "        url = 'https://www.nies.go.jp/igreen/tj/' + s_yr + '/' + f_name\n",
    "        f_name = d_path + f_name\n",
    "        print(f'Downlading: {url} and placing: {f_name}')\n",
    "\n",
    "        if os.path.exists(f_name):\n",
    "            print(f'File exist')\n",
    "        else:\n",
    "            urllib.request.urlretrieve(url, f_name)\n",
    "    print(f'Downlading done for: {yr}')"
   ]
  },
  {
   "cell_type": "markdown",
   "metadata": {},
   "source": [
    "## Unzipping files at the directory"
   ]
  },
  {
   "cell_type": "code",
   "execution_count": 10,
   "metadata": {
    "ExecuteTime": {
     "end_time": "2019-12-07T13:36:22.846706Z",
     "start_time": "2019-12-07T13:36:17.029176Z"
    },
    "code_folding": []
   },
   "outputs": [
    {
     "name": "stdout",
     "output_type": "stream",
     "text": [
      "Unzipping: ../inp_data/2009-2017/j01_2009.zip\n",
      "Unzipping: ../inp_data/2009-2017/j02_2009.zip\n",
      "Unzipping: ../inp_data/2009-2017/j03_2009.zip\n",
      "Unzipping: ../inp_data/2009-2017/j04_2009.zip\n",
      "Unzipping: ../inp_data/2009-2017/j05_2009.zip\n",
      "Unzipping: ../inp_data/2009-2017/j06_2009.zip\n",
      "Unzipping: ../inp_data/2009-2017/j07_2009.zip\n",
      "Unzipping: ../inp_data/2009-2017/j08_2009.zip\n",
      "Unzipping: ../inp_data/2009-2017/j09_2009.zip\n",
      "Unzipping: ../inp_data/2009-2017/j10_2009.zip\n",
      "Unzipping: ../inp_data/2009-2017/j11_2009.zip\n",
      "Unzipping: ../inp_data/2009-2017/j12_2009.zip\n",
      "Unzipping: ../inp_data/2009-2017/j13_2009.zip\n",
      "Unzipping: ../inp_data/2009-2017/j14_2009.zip\n",
      "Unzipping: ../inp_data/2009-2017/j15_2009.zip\n",
      "Unzipping: ../inp_data/2009-2017/j16_2009.zip\n",
      "Unzipping: ../inp_data/2009-2017/j17_2009.zip\n",
      "Unzipping: ../inp_data/2009-2017/j18_2009.zip\n",
      "Unzipping: ../inp_data/2009-2017/j19_2009.zip\n",
      "Unzipping: ../inp_data/2009-2017/j20_2009.zip\n",
      "Unzipping: ../inp_data/2009-2017/j21_2009.zip\n",
      "Unzipping: ../inp_data/2009-2017/j22_2009.zip\n",
      "Unzipping: ../inp_data/2009-2017/j23_2009.zip\n",
      "Unzipping: ../inp_data/2009-2017/j24_2009.zip\n",
      "Unzipping: ../inp_data/2009-2017/j25_2009.zip\n",
      "Unzipping: ../inp_data/2009-2017/j26_2009.zip\n",
      "Unzipping: ../inp_data/2009-2017/j27_2009.zip\n",
      "Unzipping: ../inp_data/2009-2017/j28_2009.zip\n",
      "Unzipping: ../inp_data/2009-2017/j29_2009.zip\n",
      "Unzipping: ../inp_data/2009-2017/j30_2009.zip\n",
      "Unzipping: ../inp_data/2009-2017/j31_2009.zip\n",
      "Unzipping: ../inp_data/2009-2017/j32_2009.zip\n",
      "Unzipping: ../inp_data/2009-2017/j33_2009.zip\n",
      "Unzipping: ../inp_data/2009-2017/j34_2009.zip\n",
      "Unzipping: ../inp_data/2009-2017/j35_2009.zip\n",
      "Unzipping: ../inp_data/2009-2017/j36_2009.zip\n",
      "Unzipping: ../inp_data/2009-2017/j37_2009.zip\n",
      "Unzipping: ../inp_data/2009-2017/j38_2009.zip\n",
      "Unzipping: ../inp_data/2009-2017/j39_2009.zip\n",
      "Unzipping: ../inp_data/2009-2017/j40_2009.zip\n",
      "Unzipping: ../inp_data/2009-2017/j41_2009.zip\n",
      "Unzipping: ../inp_data/2009-2017/j42_2009.zip\n",
      "Unzipping: ../inp_data/2009-2017/j43_2009.zip\n",
      "Unzipping: ../inp_data/2009-2017/j44_2009.zip\n",
      "Unzipping: ../inp_data/2009-2017/j45_2009.zip\n",
      "Unzipping: ../inp_data/2009-2017/j46_2009.zip\n",
      "Unzipping: ../inp_data/2009-2017/j47_2009.zip\n"
     ]
    }
   ],
   "source": [
    "for yr in range(years[0], years[1]+1, 1):\n",
    "    s_yr = str(yr)\n",
    "    for pr in range(1, pref_max+1, 1):\n",
    "        s_pr = str(pr).zfill(2)\n",
    "        f_name = 'j' + s_pr + '_' + s_yr + '.zip'\n",
    "        f_name = d_path + f_name\n",
    "\n",
    "        print(f'Unzipping: {f_name}')\n",
    "        try:\n",
    "            with zipfile.ZipFile(f_name,\"r\") as zip_ref:\n",
    "                zip_ref.extractall(d_path + 'uzip')\n",
    "        except:\n",
    "            print('No file')"
   ]
  },
  {
   "cell_type": "markdown",
   "metadata": {},
   "source": [
    "## List files"
   ]
  },
  {
   "cell_type": "code",
   "execution_count": 11,
   "metadata": {
    "ExecuteTime": {
     "end_time": "2019-12-07T13:36:30.550753Z",
     "start_time": "2019-12-07T13:36:30.547787Z"
    }
   },
   "outputs": [],
   "source": [
    "pth = \"D:/OneDrive - chiba-u.jp/Students/Ozone/inp_data/2009-2017/uzip/01ûkèCô╣/\"\n",
    "# for filename in os.listdir(pth):\n",
    "#     print(filename)"
   ]
  },
  {
   "cell_type": "markdown",
   "metadata": {},
   "source": [
    "## Rename folders"
   ]
  },
  {
   "cell_type": "code",
   "execution_count": 13,
   "metadata": {
    "ExecuteTime": {
     "end_time": "2019-12-07T13:38:25.282899Z",
     "start_time": "2019-12-07T13:38:25.275887Z"
    }
   },
   "outputs": [],
   "source": [
    "import shutil\n",
    "basedir = \"D:/OneDrive - chiba-u.jp/Students/Ozone/inp_data/2009-2017/uzip/\"\n",
    "for fn in os.listdir(basedir):\n",
    "    if not os.path.isdir(os.path.join(basedir, fn)):\n",
    "        continue  # Not a directory\n",
    "    if len(fn) == 2:\n",
    "        continue  # Already in the correct form\n",
    "    if len(fn) > 2:\n",
    "        old_d = os.path.join(basedir, fn)\n",
    "        new_d = os.path.join(basedir, fn[:2])\n",
    "        print(old_d[39:], new_d[39:])\n",
    "        try:\n",
    "            os.rename(old_d, new_d)\n",
    "        except:\n",
    "            files = os.listdir(old_d)\n",
    "            for f in files:\n",
    "                shutil.move(old_d+'/'+f, new_d + '/' + f)\n",
    "            os.rmdir(old_d)\n",
    "            "
   ]
  },
  {
   "cell_type": "code",
   "execution_count": null,
   "metadata": {},
   "outputs": [],
   "source": []
  }
 ],
 "metadata": {
  "hide_input": false,
  "kernelspec": {
   "display_name": "Python 3",
   "language": "python",
   "name": "python3"
  },
  "language_info": {
   "codemirror_mode": {
    "name": "ipython",
    "version": 3
   },
   "file_extension": ".py",
   "mimetype": "text/x-python",
   "name": "python",
   "nbconvert_exporter": "python",
   "pygments_lexer": "ipython3",
   "version": "3.7.5"
  },
  "toc": {
   "base_numbering": 1,
   "nav_menu": {},
   "number_sections": true,
   "sideBar": true,
   "skip_h1_title": false,
   "title_cell": "Table of Contents",
   "title_sidebar": "Contents",
   "toc_cell": false,
   "toc_position": {},
   "toc_section_display": true,
   "toc_window_display": true
  },
  "varInspector": {
   "cols": {
    "lenName": 16,
    "lenType": 16,
    "lenVar": 40
   },
   "kernels_config": {
    "python": {
     "delete_cmd_postfix": "",
     "delete_cmd_prefix": "del ",
     "library": "var_list.py",
     "varRefreshCmd": "print(var_dic_list())"
    },
    "r": {
     "delete_cmd_postfix": ") ",
     "delete_cmd_prefix": "rm(",
     "library": "var_list.r",
     "varRefreshCmd": "cat(var_dic_list()) "
    }
   },
   "oldHeight": 122.4,
   "position": {
    "height": "40px",
    "left": "1169.2px",
    "right": "20px",
    "top": "120px",
    "width": "250px"
   },
   "types_to_exclude": [
    "module",
    "function",
    "builtin_function_or_method",
    "instance",
    "_Feature"
   ],
   "varInspector_section_display": "none",
   "window_display": true
  }
 },
 "nbformat": 4,
 "nbformat_minor": 2
}
