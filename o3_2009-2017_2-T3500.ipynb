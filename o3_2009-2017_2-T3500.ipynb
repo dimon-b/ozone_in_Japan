{
 "cells": [
  {
   "cell_type": "markdown",
   "metadata": {
    "hide_input": false
   },
   "source": [
    "# New approach for O$_3$ analysis over Japan. Part 2"
   ]
  },
  {
   "cell_type": "markdown",
   "metadata": {},
   "source": [
    "## Init"
   ]
  },
  {
   "cell_type": "code",
   "execution_count": 1,
   "metadata": {
    "ExecuteTime": {
     "end_time": "2019-12-09T06:39:56.322988Z",
     "start_time": "2019-12-09T06:39:55.091793Z"
    }
   },
   "outputs": [],
   "source": [
    "import urllib.request\n",
    "import zipfile\n",
    "import glob, os, sys\n",
    "import numpy as np\n",
    "import pandas as pd\n",
    "import datetime\n",
    "import seaborn as sns\n",
    "import matplotlib.pyplot as plt"
   ]
  },
  {
   "cell_type": "markdown",
   "metadata": {},
   "source": [
    "## Parameters"
   ]
  },
  {
   "cell_type": "code",
   "execution_count": 2,
   "metadata": {
    "ExecuteTime": {
     "end_time": "2019-12-09T06:39:56.328955Z",
     "start_time": "2019-12-09T06:39:56.324984Z"
    }
   },
   "outputs": [],
   "source": [
    "u_path = '../inp_data/2009-2017/uzip/'"
   ]
  },
  {
   "cell_type": "markdown",
   "metadata": {},
   "source": [
    "## Data processing"
   ]
  },
  {
   "cell_type": "markdown",
   "metadata": {},
   "source": [
    "### Prefectures of Japan"
   ]
  },
  {
   "cell_type": "code",
   "execution_count": 3,
   "metadata": {
    "ExecuteTime": {
     "end_time": "2019-12-09T06:39:56.337949Z",
     "start_time": "2019-12-09T06:39:56.330954Z"
    }
   },
   "outputs": [],
   "source": [
    "dic_p = {}\n",
    "with open(\"../inp_data/pref.txt\", \"r\", encoding='utf-8') as file:\n",
    "    next(file)\n",
    "    for line in file:\n",
    "        key, jp, eng = line.strip().split(\"\\t\")\n",
    "        dic_p[key] = eng"
   ]
  },
  {
   "cell_type": "markdown",
   "metadata": {},
   "source": [
    "### Regions of Japan"
   ]
  },
  {
   "cell_type": "code",
   "execution_count": 4,
   "metadata": {
    "ExecuteTime": {
     "end_time": "2019-12-09T06:39:56.348941Z",
     "start_time": "2019-12-09T06:39:56.339947Z"
    }
   },
   "outputs": [],
   "source": [
    "def reg_names(col):\n",
    "    if col in ['Hokkaido']:\n",
    "        return 'Hokkaido'\n",
    "    if col in ['Aomori', 'Iwate', 'Miyagi', 'Akita', 'Yamagata', 'Fukushima']:\n",
    "        return 'Tohoku'\n",
    "    if col in ['Ibaraki', 'Tochigi', 'Gunma', 'Saitama', 'Chiba', 'Tokyo', 'Kanagawa']:\n",
    "        return 'Kanto'\n",
    "    if col in ['Niigata', 'Toyama', 'Ishikawa', 'Fukui', 'Yamanashi', 'Nagano', 'Gifu', \n",
    "               'Shizuoka', 'Aichi']:\n",
    "        return 'Chubu'\n",
    "    if col in ['Mie', 'Shiga', 'Kyoto', 'Osaka', 'Hyogo', 'Nara', 'Wakayama']:\n",
    "        return 'Kansai'\n",
    "    if col in ['Tottori', 'Shimane', 'Okayama', 'Hiroshima', 'Yamaguchi']:\n",
    "        return 'Chugoku'\n",
    "    if col in ['Tokushima', 'Kagawa', 'Ehime', 'Kochi']:\n",
    "        return 'Shikoku'\n",
    "    if col in ['Fukuoka', 'Saga', 'Nagasaki', 'Kumamoto', 'Oita', 'Miyazaki', \n",
    "               'Kagoshima', 'Okinawa']:\n",
    "        return 'Kyushu'"
   ]
  },
  {
   "cell_type": "markdown",
   "metadata": {},
   "source": [
    "### Collect df"
   ]
  },
  {
   "cell_type": "code",
   "execution_count": 12,
   "metadata": {
    "ExecuteTime": {
     "end_time": "2019-12-09T07:09:51.985574Z",
     "start_time": "2019-12-09T07:09:51.961611Z"
    }
   },
   "outputs": [],
   "source": [
    "def run_1df(year):\n",
    "    \n",
    "    # Read files and make df\n",
    "    frames = []\n",
    "    s_yr = str(year)\n",
    "    for pr in range(1, pref_max+1):\n",
    "        s_pr = str(pr).zfill(2)\n",
    "        f_name = 'j' + s_pr + s_yr + '_' + '06.txt'\n",
    "        f_name = u_path + s_pr + '/' + s_yr + '/' + f_name\n",
    "\n",
    "        # --- read\n",
    "        try:\n",
    "            df_r = pd.read_csv(f_name, encoding='cp932')\n",
    "            frames.append(df_r)\n",
    "        except:\n",
    "            print(f'No file: {f_name}')\n",
    "            sys.exit()\n",
    "\n",
    "    df_s = pd.concat(frames)\n",
    "    df_s.drop(columns=['測定項目コード', '測定単位コード'], inplace=True)\n",
    "    df = df_s.copy()\n",
    "    print('\\tFull df len:', len(df_s))\n",
    "    \n",
    "    # Add hour data\n",
    "    df_t = df.copy()\n",
    "    df_t = pd.melt(df_t, id_vars=['測定年度', '測定局コード', '市町村コード', '測定月', '測定日'], \n",
    "                 value_vars=['01h','02h','03h','04h','05h','06h','07h','08h','09h','10h','11h',\n",
    "                             '12h','13h','14h','15h','16h','17h','18h','19h','20h','21h','22h','23h','24h'])\n",
    "    df_t['hour'] = df_t.apply(lambda row: int(str(row['variable'])[:-1]) - 1, axis=1)\n",
    "    \n",
    "    # Cut wrong days, add index and drop columns\n",
    "    df_t['index'] = pd.to_datetime(dict(year=df_t.測定年度, month=df_t.測定月, \n",
    "                                        day=df_t.測定日, hour=df_t.hour), errors='coerce')\n",
    "    df_t.dropna(inplace=True)\n",
    "    df_t.drop(columns=['variable'], inplace=True)\n",
    "    df_t.set_index('index', inplace=True)\n",
    "    df_t.rename(columns={'value':'OX'}, inplace=True)\n",
    "    \n",
    "    # Remove undef ~9999\n",
    "    df_t['OX'] = df_t.OX.apply(lambda x: x if x < 9900 else np.nan)\n",
    "    df_t.dropna(inplace=True)\n",
    "    \n",
    "    # Replace Japanese names\n",
    "    df_t.rename(columns={'測定局コード':'site_id'}, inplace=True)\n",
    "    df_t.rename(columns={'市町村コード':'city_id'}, inplace=True)\n",
    "    df_t.rename(columns={'測定年度':'year'}, inplace=True)\n",
    "    df_t.rename(columns={'測定月':'month'}, inplace=True)\n",
    "    df_t.rename(columns={'測定日':'day'}, inplace=True)\n",
    "    \n",
    "    # Add prefecture names\n",
    "    df_t['pref'] = df_t.apply(lambda row: str(row['site_id'])[:-6], axis=1)\n",
    "    df_t['pref'] = df_t['pref'].map(dic_p)\n",
    "    \n",
    "    # Add region names\n",
    "    df_t['region'] = df_t['pref'].apply(reg_names)\n",
    "    \n",
    "    # Check\n",
    "    print(df_t.head())\n",
    "    print(df_t.tail())\n",
    "    \n",
    "    # Save\n",
    "    df_t.to_pickle('../out_data/jap_ox_' + s_yr)"
   ]
  },
  {
   "cell_type": "markdown",
   "metadata": {},
   "source": [
    "### Main run"
   ]
  },
  {
   "cell_type": "code",
   "execution_count": null,
   "metadata": {
    "ExecuteTime": {
     "start_time": "2019-12-09T07:09:53.445Z"
    }
   },
   "outputs": [
    {
     "name": "stdout",
     "output_type": "stream",
     "text": [
      "2009\n",
      "\tFull df len: 437472\n",
      "            year  site_id city_id  month  day    OX  hour      pref    region\n",
      "index                                                                        \n",
      "2009-04-01  2009  1101010     101      4    1  15.0     0  Hokkaido  Hokkaido\n",
      "2009-04-02  2009  1101010     101      4    2   7.0     0  Hokkaido  Hokkaido\n",
      "2009-04-03  2009  1101010     101      4    3   6.0     0  Hokkaido  Hokkaido\n",
      "2009-04-04  2009  1101010     101      4    4   7.0     0  Hokkaido  Hokkaido\n",
      "2009-04-05  2009  1101010     101      4    5  57.0     0  Hokkaido  Hokkaido\n",
      "                     year   site_id city_id  month  day    OX  hour     pref  \\\n",
      "index                                                                          \n",
      "2009-03-27 23:00:00  2009  47322010     213      3   27  58.0    23  Okinawa   \n",
      "2009-03-28 23:00:00  2009  47322010     213      3   28  64.0    23  Okinawa   \n",
      "2009-03-29 23:00:00  2009  47322010     213      3   29  63.0    23  Okinawa   \n",
      "2009-03-30 23:00:00  2009  47322010     213      3   30  65.0    23  Okinawa   \n",
      "2009-03-31 23:00:00  2009  47322010     213      3   31  62.0    23  Okinawa   \n",
      "\n",
      "                     region  \n",
      "index                        \n",
      "2009-03-27 23:00:00  Kyushu  \n",
      "2009-03-28 23:00:00  Kyushu  \n",
      "2009-03-29 23:00:00  Kyushu  \n",
      "2009-03-30 23:00:00  Kyushu  \n",
      "2009-03-31 23:00:00  Kyushu  \n",
      "2010\n",
      "\tFull df len: 432636\n",
      "            year  site_id  city_id  month  day    OX  hour pref region\n",
      "index                                                                 \n",
      "2010-04-01  2010  1101010      101      4    1  34.0     0  NaN   None\n",
      "2010-04-02  2010  1101010      101      4    2  13.0     0  NaN   None\n",
      "2010-04-03  2010  1101010      101      4    3  48.0     0  NaN   None\n",
      "2010-04-04  2010  1101010      101      4    4  51.0     0  NaN   None\n",
      "2010-04-06  2010  1101010      101      4    6   4.0     0  NaN   None\n",
      "                     year   site_id  city_id  month  day    OX  hour pref  \\\n",
      "index                                                                       \n",
      "2010-03-27 23:00:00  2010  47322010      213      3   27  49.0    23  NaN   \n",
      "2010-03-28 23:00:00  2010  47322010      213      3   28  53.0    23  NaN   \n",
      "2010-03-29 23:00:00  2010  47322010      213      3   29  58.0    23  NaN   \n",
      "2010-03-30 23:00:00  2010  47322010      213      3   30  62.0    23  NaN   \n",
      "2010-03-31 23:00:00  2010  47322010      213      3   31  62.0    23  NaN   \n",
      "\n",
      "                    region  \n",
      "index                       \n",
      "2010-03-27 23:00:00   None  \n",
      "2010-03-28 23:00:00   None  \n",
      "2010-03-29 23:00:00   None  \n",
      "2010-03-30 23:00:00   None  \n",
      "2010-03-31 23:00:00   None  \n",
      "2011\n",
      "\tFull df len: 436728\n",
      "            year  site_id  city_id  month  day    OX  hour pref region\n",
      "index                                                                 \n",
      "2011-04-01  2011  1101010      101      4    1  42.0     0  NaN   None\n",
      "2011-04-02  2011  1101010      101      4    2  42.0     0  NaN   None\n",
      "2011-04-03  2011  1101010      101      4    3  39.0     0  NaN   None\n",
      "2011-04-04  2011  1101010      101      4    4  32.0     0  NaN   None\n",
      "2011-04-05  2011  1101010      101      4    5  24.0     0  NaN   None\n",
      "                     year   site_id  city_id  month  day    OX  hour pref  \\\n",
      "index                                                                       \n",
      "2011-03-27 23:00:00  2011  47322010      213      3   27  52.0    23  NaN   \n",
      "2011-03-28 23:00:00  2011  47322010      213      3   28  61.0    23  NaN   \n",
      "2011-03-29 23:00:00  2011  47322010      213      3   29  59.0    23  NaN   \n",
      "2011-03-30 23:00:00  2011  47322010      213      3   30  46.0    23  NaN   \n",
      "2011-03-31 23:00:00  2011  47322010      213      3   31  48.0    23  NaN   \n",
      "\n",
      "                    region  \n",
      "index                       \n",
      "2011-03-27 23:00:00   None  \n",
      "2011-03-28 23:00:00   None  \n",
      "2011-03-29 23:00:00   None  \n",
      "2011-03-30 23:00:00   None  \n",
      "2011-03-31 23:00:00   None  \n",
      "2012\n",
      "\tFull df len: 437100\n"
     ]
    }
   ],
   "source": [
    "d_path = '../inp_data/2009-2017/'\n",
    "year = [2009, 2017]\n",
    "pref_max = 47\n",
    "for yr in range(year[0], year[1]+1):\n",
    "    print(yr)\n",
    "    run_1df(yr)"
   ]
  },
  {
   "cell_type": "code",
   "execution_count": null,
   "metadata": {},
   "outputs": [],
   "source": []
  }
 ],
 "metadata": {
  "hide_input": false,
  "kernelspec": {
   "display_name": "Python 3",
   "language": "python",
   "name": "python3"
  },
  "language_info": {
   "codemirror_mode": {
    "name": "ipython",
    "version": 3
   },
   "file_extension": ".py",
   "mimetype": "text/x-python",
   "name": "python",
   "nbconvert_exporter": "python",
   "pygments_lexer": "ipython3",
   "version": "3.7.1"
  },
  "toc": {
   "base_numbering": 1,
   "nav_menu": {},
   "number_sections": true,
   "sideBar": true,
   "skip_h1_title": false,
   "title_cell": "Table of Contents",
   "title_sidebar": "Contents",
   "toc_cell": false,
   "toc_position": {
    "height": "calc(100% - 180px)",
    "left": "10px",
    "top": "150px",
    "width": "165px"
   },
   "toc_section_display": true,
   "toc_window_display": false
  },
  "varInspector": {
   "cols": {
    "lenName": 16,
    "lenType": 16,
    "lenVar": 40
   },
   "kernels_config": {
    "python": {
     "delete_cmd_postfix": "",
     "delete_cmd_prefix": "del ",
     "library": "var_list.py",
     "varRefreshCmd": "print(var_dic_list())"
    },
    "r": {
     "delete_cmd_postfix": ") ",
     "delete_cmd_prefix": "rm(",
     "library": "var_list.r",
     "varRefreshCmd": "cat(var_dic_list()) "
    }
   },
   "position": {
    "height": "188.4px",
    "left": "1054.2px",
    "right": "20px",
    "top": "120px",
    "width": "350px"
   },
   "types_to_exclude": [
    "module",
    "function",
    "builtin_function_or_method",
    "instance",
    "_Feature"
   ],
   "window_display": false
  }
 },
 "nbformat": 4,
 "nbformat_minor": 2
}
