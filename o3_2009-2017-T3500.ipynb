{
 "cells": [
  {
   "cell_type": "markdown",
   "metadata": {},
   "source": [
    "# New approach for O$_3$ analysis over Japan"
   ]
  },
  {
   "cell_type": "code",
   "execution_count": 1,
   "metadata": {},
   "outputs": [],
   "source": [
    "import urllib.request\n",
    "import zipfile\n",
    "import glob, os\n",
    "import numpy as np\n",
    "import pandas as pd\n",
    "import datetime"
   ]
  },
  {
   "cell_type": "markdown",
   "metadata": {},
   "source": [
    "## Parameters"
   ]
  },
  {
   "cell_type": "code",
   "execution_count": 2,
   "metadata": {},
   "outputs": [],
   "source": [
    "m_url = 'https://www.nies.go.jp/igreen/tj/2016/j01_2016.zip'\n",
    "d_path = '../inp_data/2009-2017/'\n",
    "years = [2009, 2017]\n",
    "pref_max = 47"
   ]
  },
  {
   "cell_type": "markdown",
   "metadata": {},
   "source": [
    "## Donwloading and Unzipping files of raw data\n",
    "Downloading the atmospheric environment measurement station data (時間値データ（2009～2017年度）) from https://www.nies.go.jp/igreen/tm_down.html"
   ]
  },
  {
   "cell_type": "code",
   "execution_count": 13,
   "metadata": {},
   "outputs": [
    {
     "name": "stdout",
     "output_type": "stream",
     "text": [
      "Downlading: https://www.nies.go.jp/igreen/tj/2012/j01_2012.zip and placing: ../inp_data/2009-2017/j01_2012.zip\n",
      "File exist\n",
      "Downlading: https://www.nies.go.jp/igreen/tj/2012/j02_2012.zip and placing: ../inp_data/2009-2017/j02_2012.zip\n",
      "File exist\n",
      "Downlading: https://www.nies.go.jp/igreen/tj/2012/j03_2012.zip and placing: ../inp_data/2009-2017/j03_2012.zip\n",
      "File exist\n",
      "Downlading: https://www.nies.go.jp/igreen/tj/2012/j04_2012.zip and placing: ../inp_data/2009-2017/j04_2012.zip\n",
      "File exist\n",
      "Downlading: https://www.nies.go.jp/igreen/tj/2012/j05_2012.zip and placing: ../inp_data/2009-2017/j05_2012.zip\n",
      "File exist\n",
      "Downlading: https://www.nies.go.jp/igreen/tj/2012/j06_2012.zip and placing: ../inp_data/2009-2017/j06_2012.zip\n",
      "File exist\n",
      "Downlading: https://www.nies.go.jp/igreen/tj/2012/j07_2012.zip and placing: ../inp_data/2009-2017/j07_2012.zip\n",
      "File exist\n",
      "Downlading: https://www.nies.go.jp/igreen/tj/2012/j08_2012.zip and placing: ../inp_data/2009-2017/j08_2012.zip\n",
      "File exist\n",
      "Downlading: https://www.nies.go.jp/igreen/tj/2012/j09_2012.zip and placing: ../inp_data/2009-2017/j09_2012.zip\n",
      "File exist\n",
      "Downlading: https://www.nies.go.jp/igreen/tj/2012/j10_2012.zip and placing: ../inp_data/2009-2017/j10_2012.zip\n",
      "File exist\n",
      "Downlading: https://www.nies.go.jp/igreen/tj/2012/j11_2012.zip and placing: ../inp_data/2009-2017/j11_2012.zip\n",
      "File exist\n",
      "Downlading: https://www.nies.go.jp/igreen/tj/2012/j12_2012.zip and placing: ../inp_data/2009-2017/j12_2012.zip\n",
      "File exist\n",
      "Downlading: https://www.nies.go.jp/igreen/tj/2012/j13_2012.zip and placing: ../inp_data/2009-2017/j13_2012.zip\n",
      "File exist\n",
      "Downlading: https://www.nies.go.jp/igreen/tj/2012/j14_2012.zip and placing: ../inp_data/2009-2017/j14_2012.zip\n",
      "File exist\n",
      "Downlading: https://www.nies.go.jp/igreen/tj/2012/j15_2012.zip and placing: ../inp_data/2009-2017/j15_2012.zip\n",
      "File exist\n",
      "Downlading: https://www.nies.go.jp/igreen/tj/2012/j16_2012.zip and placing: ../inp_data/2009-2017/j16_2012.zip\n",
      "File exist\n",
      "Downlading: https://www.nies.go.jp/igreen/tj/2012/j17_2012.zip and placing: ../inp_data/2009-2017/j17_2012.zip\n",
      "File exist\n",
      "Downlading: https://www.nies.go.jp/igreen/tj/2012/j18_2012.zip and placing: ../inp_data/2009-2017/j18_2012.zip\n",
      "Downlading: https://www.nies.go.jp/igreen/tj/2012/j19_2012.zip and placing: ../inp_data/2009-2017/j19_2012.zip\n",
      "File exist\n",
      "Downlading: https://www.nies.go.jp/igreen/tj/2012/j20_2012.zip and placing: ../inp_data/2009-2017/j20_2012.zip\n",
      "File exist\n",
      "Downlading: https://www.nies.go.jp/igreen/tj/2012/j21_2012.zip and placing: ../inp_data/2009-2017/j21_2012.zip\n",
      "File exist\n",
      "Downlading: https://www.nies.go.jp/igreen/tj/2012/j22_2012.zip and placing: ../inp_data/2009-2017/j22_2012.zip\n",
      "File exist\n",
      "Downlading: https://www.nies.go.jp/igreen/tj/2012/j23_2012.zip and placing: ../inp_data/2009-2017/j23_2012.zip\n",
      "File exist\n",
      "Downlading: https://www.nies.go.jp/igreen/tj/2012/j24_2012.zip and placing: ../inp_data/2009-2017/j24_2012.zip\n",
      "File exist\n",
      "Downlading: https://www.nies.go.jp/igreen/tj/2012/j25_2012.zip and placing: ../inp_data/2009-2017/j25_2012.zip\n",
      "File exist\n",
      "Downlading: https://www.nies.go.jp/igreen/tj/2012/j26_2012.zip and placing: ../inp_data/2009-2017/j26_2012.zip\n",
      "File exist\n",
      "Downlading: https://www.nies.go.jp/igreen/tj/2012/j27_2012.zip and placing: ../inp_data/2009-2017/j27_2012.zip\n",
      "File exist\n",
      "Downlading: https://www.nies.go.jp/igreen/tj/2012/j28_2012.zip and placing: ../inp_data/2009-2017/j28_2012.zip\n",
      "File exist\n",
      "Downlading: https://www.nies.go.jp/igreen/tj/2012/j29_2012.zip and placing: ../inp_data/2009-2017/j29_2012.zip\n",
      "File exist\n",
      "Downlading: https://www.nies.go.jp/igreen/tj/2012/j30_2012.zip and placing: ../inp_data/2009-2017/j30_2012.zip\n",
      "File exist\n",
      "Downlading: https://www.nies.go.jp/igreen/tj/2012/j31_2012.zip and placing: ../inp_data/2009-2017/j31_2012.zip\n",
      "File exist\n",
      "Downlading: https://www.nies.go.jp/igreen/tj/2012/j32_2012.zip and placing: ../inp_data/2009-2017/j32_2012.zip\n",
      "File exist\n",
      "Downlading: https://www.nies.go.jp/igreen/tj/2012/j33_2012.zip and placing: ../inp_data/2009-2017/j33_2012.zip\n",
      "File exist\n",
      "Downlading: https://www.nies.go.jp/igreen/tj/2012/j34_2012.zip and placing: ../inp_data/2009-2017/j34_2012.zip\n",
      "File exist\n",
      "Downlading: https://www.nies.go.jp/igreen/tj/2012/j35_2012.zip and placing: ../inp_data/2009-2017/j35_2012.zip\n",
      "File exist\n",
      "Downlading: https://www.nies.go.jp/igreen/tj/2012/j36_2012.zip and placing: ../inp_data/2009-2017/j36_2012.zip\n",
      "File exist\n",
      "Downlading: https://www.nies.go.jp/igreen/tj/2012/j37_2012.zip and placing: ../inp_data/2009-2017/j37_2012.zip\n",
      "File exist\n",
      "Downlading: https://www.nies.go.jp/igreen/tj/2012/j38_2012.zip and placing: ../inp_data/2009-2017/j38_2012.zip\n",
      "File exist\n",
      "Downlading: https://www.nies.go.jp/igreen/tj/2012/j39_2012.zip and placing: ../inp_data/2009-2017/j39_2012.zip\n",
      "File exist\n",
      "Downlading: https://www.nies.go.jp/igreen/tj/2012/j40_2012.zip and placing: ../inp_data/2009-2017/j40_2012.zip\n",
      "File exist\n",
      "Downlading: https://www.nies.go.jp/igreen/tj/2012/j41_2012.zip and placing: ../inp_data/2009-2017/j41_2012.zip\n",
      "File exist\n",
      "Downlading: https://www.nies.go.jp/igreen/tj/2012/j42_2012.zip and placing: ../inp_data/2009-2017/j42_2012.zip\n",
      "File exist\n",
      "Downlading: https://www.nies.go.jp/igreen/tj/2012/j43_2012.zip and placing: ../inp_data/2009-2017/j43_2012.zip\n",
      "File exist\n",
      "Downlading: https://www.nies.go.jp/igreen/tj/2012/j44_2012.zip and placing: ../inp_data/2009-2017/j44_2012.zip\n",
      "File exist\n",
      "Downlading: https://www.nies.go.jp/igreen/tj/2012/j45_2012.zip and placing: ../inp_data/2009-2017/j45_2012.zip\n",
      "File exist\n",
      "Downlading: https://www.nies.go.jp/igreen/tj/2012/j46_2012.zip and placing: ../inp_data/2009-2017/j46_2012.zip\n",
      "File exist\n",
      "Downlading: https://www.nies.go.jp/igreen/tj/2012/j47_2012.zip and placing: ../inp_data/2009-2017/j47_2012.zip\n",
      "File exist\n",
      "Downlading done for: 2012\n",
      "Wall time: 313 ms\n"
     ]
    }
   ],
   "source": [
    "%%time\n",
    "for yr in range(years[0], years[1]+1, 1):\n",
    "    s_yr = str(yr)\n",
    "    for pr in range(1, pref_max+1):\n",
    "        s_pr = str(pr).zfill(2)\n",
    "        f_name = 'j' + s_pr + '_' + s_yr + '.zip'\n",
    "        url = 'https://www.nies.go.jp/igreen/tj/' + s_yr + '/' + f_name\n",
    "        f_name = d_path + f_name\n",
    "        print(f'Downlading: {url} and placing: {f_name}')\n",
    "\n",
    "        if os.path.exists(f_name):\n",
    "            print(f'File exist')\n",
    "        else:\n",
    "            urllib.request.urlretrieve(url, f_name)\n",
    "    print(f'Downlading done for: {yr}')"
   ]
  },
  {
   "cell_type": "markdown",
   "metadata": {},
   "source": [
    "## Unzipping files at the directory"
   ]
  },
  {
   "cell_type": "code",
   "execution_count": 44,
   "metadata": {
    "code_folding": []
   },
   "outputs": [
    {
     "name": "stdout",
     "output_type": "stream",
     "text": [
      "Unzipping: ../inp_data/2009-2017/j20_2009.zip\n",
      "Unzipping: ../inp_data/2009-2017/j20_2010.zip\n",
      "Unzipping: ../inp_data/2009-2017/j20_2011.zip\n",
      "Unzipping: ../inp_data/2009-2017/j20_2012.zip\n",
      "Unzipping: ../inp_data/2009-2017/j20_2013.zip\n",
      "Unzipping: ../inp_data/2009-2017/j20_2014.zip\n",
      "Unzipping: ../inp_data/2009-2017/j20_2015.zip\n",
      "Unzipping: ../inp_data/2009-2017/j20_2016.zip\n",
      "Unzipping: ../inp_data/2009-2017/j20_2017.zip\n",
      "Wall time: 746 ms\n"
     ]
    }
   ],
   "source": [
    "%%time\n",
    "years = [2009,2017]\n",
    "for yr in range(years[0], years[1]+1, 1):\n",
    "    s_yr = str(yr)\n",
    "    for pr in range(20, pref_max+1, 100):\n",
    "        s_pr = str(pr).zfill(2)\n",
    "        f_name = 'j' + s_pr + '_' + s_yr + '.zip'\n",
    "        f_name = d_path + f_name\n",
    "\n",
    "        print(f'Unzipping: {f_name}')\n",
    "        try:\n",
    "            with zipfile.ZipFile(f_name,\"r\") as zip_ref:\n",
    "                zip_ref.extractall(d_path + 'uzip')\n",
    "        except:\n",
    "            print('No file')"
   ]
  },
  {
   "cell_type": "markdown",
   "metadata": {},
   "source": [
    "## List files"
   ]
  },
  {
   "cell_type": "code",
   "execution_count": 45,
   "metadata": {},
   "outputs": [],
   "source": [
    "pth = \"D:/OneDrive - chiba-u.jp/Students/Ozone/inp_data/2009-2017/uzip/01ûkèCô╣/\"\n",
    "# for filename in os.listdir(pth):\n",
    "#     print(filename)"
   ]
  },
  {
   "cell_type": "markdown",
   "metadata": {},
   "source": [
    "## Rename folders"
   ]
  },
  {
   "cell_type": "code",
   "execution_count": 48,
   "metadata": {},
   "outputs": [],
   "source": [
    "import shutil\n",
    "basedir = \"D:/OneDrive - chiba-u.jp/Students/Ozone/inp_data/2009-2017/uzip/\"\n",
    "for fn in os.listdir(basedir):\n",
    "    if not os.path.isdir(os.path.join(basedir, fn)):\n",
    "        continue  # Not a directory\n",
    "    if len(fn) == 2:\n",
    "        continue  # Already in the correct form\n",
    "    if len(fn) > 2:\n",
    "        old_d = os.path.join(basedir, fn)\n",
    "        new_d = os.path.join(basedir, fn[:2])\n",
    "        print(old_d[30:], new_d[30:])\n",
    "        try:\n",
    "            os.rename(old_d, new_d)\n",
    "        except:\n",
    "            files = os.listdir(old_d)\n",
    "            for f in files:\n",
    "                shutil.move(old_d+'/'+f, new_d + '/' + f)\n",
    "            os.rmdir(old_d)\n",
    "            "
   ]
  },
  {
   "cell_type": "markdown",
   "metadata": {},
   "source": [
    "## Collect df for one year"
   ]
  },
  {
   "cell_type": "code",
   "execution_count": 28,
   "metadata": {},
   "outputs": [
    {
     "name": "stdout",
     "output_type": "stream",
     "text": [
      "../inp_data/2009-2017/uzip/01/2012/j012012_06.txt\n",
      "../inp_data/2009-2017/uzip/02/2012/j022012_06.txt\n",
      "../inp_data/2009-2017/uzip/03/2012/j032012_06.txt\n",
      "../inp_data/2009-2017/uzip/04/2012/j042012_06.txt\n",
      "../inp_data/2009-2017/uzip/05/2012/j052012_06.txt\n",
      "../inp_data/2009-2017/uzip/06/2012/j062012_06.txt\n",
      "../inp_data/2009-2017/uzip/07/2012/j072012_06.txt\n",
      "../inp_data/2009-2017/uzip/08/2012/j082012_06.txt\n",
      "../inp_data/2009-2017/uzip/09/2012/j092012_06.txt\n",
      "../inp_data/2009-2017/uzip/10/2012/j102012_06.txt\n",
      "../inp_data/2009-2017/uzip/11/2012/j112012_06.txt\n",
      "../inp_data/2009-2017/uzip/12/2012/j122012_06.txt\n",
      "../inp_data/2009-2017/uzip/13/2012/j132012_06.txt\n",
      "../inp_data/2009-2017/uzip/14/2012/j142012_06.txt\n",
      "../inp_data/2009-2017/uzip/15/2012/j152012_06.txt\n",
      "../inp_data/2009-2017/uzip/16/2012/j162012_06.txt\n",
      "../inp_data/2009-2017/uzip/17/2012/j172012_06.txt\n",
      "../inp_data/2009-2017/uzip/18/2012/j182012_06.txt\n",
      "../inp_data/2009-2017/uzip/19/2012/j192012_06.txt\n",
      "../inp_data/2009-2017/uzip/20/2012/j202012_06.txt\n"
     ]
    },
    {
     "ename": "FileNotFoundError",
     "evalue": "[Errno 2] File b'../inp_data/2009-2017/uzip/20/2012/j202012_06.txt' does not exist: b'../inp_data/2009-2017/uzip/20/2012/j202012_06.txt'",
     "output_type": "error",
     "traceback": [
      "\u001b[1;31m---------------------------------------------------------------------------\u001b[0m",
      "\u001b[1;31mFileNotFoundError\u001b[0m                         Traceback (most recent call last)",
      "\u001b[1;32m<timed exec>\u001b[0m in \u001b[0;36m<module>\u001b[1;34m\u001b[0m\n",
      "\u001b[1;32m~\\Anaconda3\\lib\\site-packages\\pandas\\io\\parsers.py\u001b[0m in \u001b[0;36mparser_f\u001b[1;34m(filepath_or_buffer, sep, delimiter, header, names, index_col, usecols, squeeze, prefix, mangle_dupe_cols, dtype, engine, converters, true_values, false_values, skipinitialspace, skiprows, skipfooter, nrows, na_values, keep_default_na, na_filter, verbose, skip_blank_lines, parse_dates, infer_datetime_format, keep_date_col, date_parser, dayfirst, cache_dates, iterator, chunksize, compression, thousands, decimal, lineterminator, quotechar, quoting, doublequote, escapechar, comment, encoding, dialect, error_bad_lines, warn_bad_lines, delim_whitespace, low_memory, memory_map, float_precision)\u001b[0m\n\u001b[0;32m    683\u001b[0m         )\n\u001b[0;32m    684\u001b[0m \u001b[1;33m\u001b[0m\u001b[0m\n\u001b[1;32m--> 685\u001b[1;33m         \u001b[1;32mreturn\u001b[0m \u001b[0m_read\u001b[0m\u001b[1;33m(\u001b[0m\u001b[0mfilepath_or_buffer\u001b[0m\u001b[1;33m,\u001b[0m \u001b[0mkwds\u001b[0m\u001b[1;33m)\u001b[0m\u001b[1;33m\u001b[0m\u001b[1;33m\u001b[0m\u001b[0m\n\u001b[0m\u001b[0;32m    686\u001b[0m \u001b[1;33m\u001b[0m\u001b[0m\n\u001b[0;32m    687\u001b[0m     \u001b[0mparser_f\u001b[0m\u001b[1;33m.\u001b[0m\u001b[0m__name__\u001b[0m \u001b[1;33m=\u001b[0m \u001b[0mname\u001b[0m\u001b[1;33m\u001b[0m\u001b[1;33m\u001b[0m\u001b[0m\n",
      "\u001b[1;32m~\\Anaconda3\\lib\\site-packages\\pandas\\io\\parsers.py\u001b[0m in \u001b[0;36m_read\u001b[1;34m(filepath_or_buffer, kwds)\u001b[0m\n\u001b[0;32m    455\u001b[0m \u001b[1;33m\u001b[0m\u001b[0m\n\u001b[0;32m    456\u001b[0m     \u001b[1;31m# Create the parser.\u001b[0m\u001b[1;33m\u001b[0m\u001b[1;33m\u001b[0m\u001b[1;33m\u001b[0m\u001b[0m\n\u001b[1;32m--> 457\u001b[1;33m     \u001b[0mparser\u001b[0m \u001b[1;33m=\u001b[0m \u001b[0mTextFileReader\u001b[0m\u001b[1;33m(\u001b[0m\u001b[0mfp_or_buf\u001b[0m\u001b[1;33m,\u001b[0m \u001b[1;33m**\u001b[0m\u001b[0mkwds\u001b[0m\u001b[1;33m)\u001b[0m\u001b[1;33m\u001b[0m\u001b[1;33m\u001b[0m\u001b[0m\n\u001b[0m\u001b[0;32m    458\u001b[0m \u001b[1;33m\u001b[0m\u001b[0m\n\u001b[0;32m    459\u001b[0m     \u001b[1;32mif\u001b[0m \u001b[0mchunksize\u001b[0m \u001b[1;32mor\u001b[0m \u001b[0miterator\u001b[0m\u001b[1;33m:\u001b[0m\u001b[1;33m\u001b[0m\u001b[1;33m\u001b[0m\u001b[0m\n",
      "\u001b[1;32m~\\Anaconda3\\lib\\site-packages\\pandas\\io\\parsers.py\u001b[0m in \u001b[0;36m__init__\u001b[1;34m(self, f, engine, **kwds)\u001b[0m\n\u001b[0;32m    893\u001b[0m             \u001b[0mself\u001b[0m\u001b[1;33m.\u001b[0m\u001b[0moptions\u001b[0m\u001b[1;33m[\u001b[0m\u001b[1;34m\"has_index_names\"\u001b[0m\u001b[1;33m]\u001b[0m \u001b[1;33m=\u001b[0m \u001b[0mkwds\u001b[0m\u001b[1;33m[\u001b[0m\u001b[1;34m\"has_index_names\"\u001b[0m\u001b[1;33m]\u001b[0m\u001b[1;33m\u001b[0m\u001b[1;33m\u001b[0m\u001b[0m\n\u001b[0;32m    894\u001b[0m \u001b[1;33m\u001b[0m\u001b[0m\n\u001b[1;32m--> 895\u001b[1;33m         \u001b[0mself\u001b[0m\u001b[1;33m.\u001b[0m\u001b[0m_make_engine\u001b[0m\u001b[1;33m(\u001b[0m\u001b[0mself\u001b[0m\u001b[1;33m.\u001b[0m\u001b[0mengine\u001b[0m\u001b[1;33m)\u001b[0m\u001b[1;33m\u001b[0m\u001b[1;33m\u001b[0m\u001b[0m\n\u001b[0m\u001b[0;32m    896\u001b[0m \u001b[1;33m\u001b[0m\u001b[0m\n\u001b[0;32m    897\u001b[0m     \u001b[1;32mdef\u001b[0m \u001b[0mclose\u001b[0m\u001b[1;33m(\u001b[0m\u001b[0mself\u001b[0m\u001b[1;33m)\u001b[0m\u001b[1;33m:\u001b[0m\u001b[1;33m\u001b[0m\u001b[1;33m\u001b[0m\u001b[0m\n",
      "\u001b[1;32m~\\Anaconda3\\lib\\site-packages\\pandas\\io\\parsers.py\u001b[0m in \u001b[0;36m_make_engine\u001b[1;34m(self, engine)\u001b[0m\n\u001b[0;32m   1133\u001b[0m     \u001b[1;32mdef\u001b[0m \u001b[0m_make_engine\u001b[0m\u001b[1;33m(\u001b[0m\u001b[0mself\u001b[0m\u001b[1;33m,\u001b[0m \u001b[0mengine\u001b[0m\u001b[1;33m=\u001b[0m\u001b[1;34m\"c\"\u001b[0m\u001b[1;33m)\u001b[0m\u001b[1;33m:\u001b[0m\u001b[1;33m\u001b[0m\u001b[1;33m\u001b[0m\u001b[0m\n\u001b[0;32m   1134\u001b[0m         \u001b[1;32mif\u001b[0m \u001b[0mengine\u001b[0m \u001b[1;33m==\u001b[0m \u001b[1;34m\"c\"\u001b[0m\u001b[1;33m:\u001b[0m\u001b[1;33m\u001b[0m\u001b[1;33m\u001b[0m\u001b[0m\n\u001b[1;32m-> 1135\u001b[1;33m             \u001b[0mself\u001b[0m\u001b[1;33m.\u001b[0m\u001b[0m_engine\u001b[0m \u001b[1;33m=\u001b[0m \u001b[0mCParserWrapper\u001b[0m\u001b[1;33m(\u001b[0m\u001b[0mself\u001b[0m\u001b[1;33m.\u001b[0m\u001b[0mf\u001b[0m\u001b[1;33m,\u001b[0m \u001b[1;33m**\u001b[0m\u001b[0mself\u001b[0m\u001b[1;33m.\u001b[0m\u001b[0moptions\u001b[0m\u001b[1;33m)\u001b[0m\u001b[1;33m\u001b[0m\u001b[1;33m\u001b[0m\u001b[0m\n\u001b[0m\u001b[0;32m   1136\u001b[0m         \u001b[1;32melse\u001b[0m\u001b[1;33m:\u001b[0m\u001b[1;33m\u001b[0m\u001b[1;33m\u001b[0m\u001b[0m\n\u001b[0;32m   1137\u001b[0m             \u001b[1;32mif\u001b[0m \u001b[0mengine\u001b[0m \u001b[1;33m==\u001b[0m \u001b[1;34m\"python\"\u001b[0m\u001b[1;33m:\u001b[0m\u001b[1;33m\u001b[0m\u001b[1;33m\u001b[0m\u001b[0m\n",
      "\u001b[1;32m~\\Anaconda3\\lib\\site-packages\\pandas\\io\\parsers.py\u001b[0m in \u001b[0;36m__init__\u001b[1;34m(self, src, **kwds)\u001b[0m\n\u001b[0;32m   1915\u001b[0m         \u001b[0mkwds\u001b[0m\u001b[1;33m[\u001b[0m\u001b[1;34m\"usecols\"\u001b[0m\u001b[1;33m]\u001b[0m \u001b[1;33m=\u001b[0m \u001b[0mself\u001b[0m\u001b[1;33m.\u001b[0m\u001b[0musecols\u001b[0m\u001b[1;33m\u001b[0m\u001b[1;33m\u001b[0m\u001b[0m\n\u001b[0;32m   1916\u001b[0m \u001b[1;33m\u001b[0m\u001b[0m\n\u001b[1;32m-> 1917\u001b[1;33m         \u001b[0mself\u001b[0m\u001b[1;33m.\u001b[0m\u001b[0m_reader\u001b[0m \u001b[1;33m=\u001b[0m \u001b[0mparsers\u001b[0m\u001b[1;33m.\u001b[0m\u001b[0mTextReader\u001b[0m\u001b[1;33m(\u001b[0m\u001b[0msrc\u001b[0m\u001b[1;33m,\u001b[0m \u001b[1;33m**\u001b[0m\u001b[0mkwds\u001b[0m\u001b[1;33m)\u001b[0m\u001b[1;33m\u001b[0m\u001b[1;33m\u001b[0m\u001b[0m\n\u001b[0m\u001b[0;32m   1918\u001b[0m         \u001b[0mself\u001b[0m\u001b[1;33m.\u001b[0m\u001b[0munnamed_cols\u001b[0m \u001b[1;33m=\u001b[0m \u001b[0mself\u001b[0m\u001b[1;33m.\u001b[0m\u001b[0m_reader\u001b[0m\u001b[1;33m.\u001b[0m\u001b[0munnamed_cols\u001b[0m\u001b[1;33m\u001b[0m\u001b[1;33m\u001b[0m\u001b[0m\n\u001b[0;32m   1919\u001b[0m \u001b[1;33m\u001b[0m\u001b[0m\n",
      "\u001b[1;32mpandas/_libs/parsers.pyx\u001b[0m in \u001b[0;36mpandas._libs.parsers.TextReader.__cinit__\u001b[1;34m()\u001b[0m\n",
      "\u001b[1;32mpandas/_libs/parsers.pyx\u001b[0m in \u001b[0;36mpandas._libs.parsers.TextReader._setup_parser_source\u001b[1;34m()\u001b[0m\n",
      "\u001b[1;31mFileNotFoundError\u001b[0m: [Errno 2] File b'../inp_data/2009-2017/uzip/20/2012/j202012_06.txt' does not exist: b'../inp_data/2009-2017/uzip/20/2012/j202012_06.txt'"
     ]
    }
   ],
   "source": [
    "%%time\n",
    "u_path = d_path + 'uzip/'\n",
    "frames = []\n",
    "cnt = 0\n",
    "for yr in range(years[0], years[0]+1, 1):\n",
    "    s_yr = str(yr)\n",
    "    for pr in range(1, pref_max+1):\n",
    "        s_pr = str(pr).zfill(2)\n",
    "        f_name = 'j' + s_pr + s_yr + '_' + '06.txt'\n",
    "        f_name = u_path + s_pr + '/' + s_yr + '/' + f_name\n",
    "\n",
    "        print(f_name)\n",
    "\n",
    "        # --- read\n",
    "        df_r = pd.read_csv(f_name, encoding='cp932')\n",
    "#         print('Original df len:', len(df_r))\n",
    "#         print(df_r.head())\n",
    "        cnt += len(df_r)\n",
    "        frames.append(df_r)\n",
    "df_s = pd.concat(frames)\n",
    "print('Full df len:', len(df_s), cnt)"
   ]
  },
  {
   "cell_type": "markdown",
   "metadata": {},
   "source": [
    "## Drop columns"
   ]
  },
  {
   "cell_type": "code",
   "execution_count": null,
   "metadata": {},
   "outputs": [],
   "source": [
    "df_s.drop(columns=['測定項目コード', '測定単位コード'], inplace=True)"
   ]
  },
  {
   "cell_type": "code",
   "execution_count": null,
   "metadata": {},
   "outputs": [],
   "source": [
    "print(df_s.head())"
   ]
  },
  {
   "cell_type": "markdown",
   "metadata": {},
   "source": [
    "## Cut wrong days and add index"
   ]
  },
  {
   "cell_type": "code",
   "execution_count": null,
   "metadata": {},
   "outputs": [],
   "source": [
    "%%time\n",
    "df = df_s.copy()\n",
    "df['data'] = pd.to_datetime(dict(year=df.測定年度, month=df.測定月, day=df.測定日), errors='coerce')"
   ]
  },
  {
   "cell_type": "code",
   "execution_count": null,
   "metadata": {},
   "outputs": [],
   "source": []
  }
 ],
 "metadata": {
  "kernelspec": {
   "display_name": "Python 3",
   "language": "python",
   "name": "python3"
  },
  "language_info": {
   "codemirror_mode": {
    "name": "ipython",
    "version": 3
   },
   "file_extension": ".py",
   "mimetype": "text/x-python",
   "name": "python",
   "nbconvert_exporter": "python",
   "pygments_lexer": "ipython3",
   "version": "3.7.4"
  },
  "toc": {
   "base_numbering": 1,
   "nav_menu": {},
   "number_sections": true,
   "sideBar": true,
   "skip_h1_title": false,
   "title_cell": "Table of Contents",
   "title_sidebar": "Contents",
   "toc_cell": false,
   "toc_position": {},
   "toc_section_display": true,
   "toc_window_display": false
  }
 },
 "nbformat": 4,
 "nbformat_minor": 2
}
